{
 "cells": [
  {
   "cell_type": "markdown",
   "id": "04e09f4e",
   "metadata": {
    "papermill": {
     "duration": 0.028584,
     "end_time": "2022-03-15T05:15:15.070083",
     "exception": false,
     "start_time": "2022-03-15T05:15:15.041499",
     "status": "completed"
    },
    "tags": []
   },
   "source": [
    "\n",
    "# The Dataset and The Problem to Solve\n"
   ]
  },
  {
   "cell_type": "markdown",
   "id": "2143ef61",
   "metadata": {
    "papermill": {
     "duration": 0.028418,
     "end_time": "2022-03-15T05:15:15.129171",
     "exception": false,
     "start_time": "2022-03-15T05:15:15.100753",
     "status": "completed"
    },
    "tags": []
   },
   "source": [
    ">In this notebbok, we’ll use an twitter airline sentiment data. The dataset contains 2 columns (review and sentiment) that will help us identify whether a review is positive or negative.\n",
    ">\n",
    ">*Problem formulation: Our goal is to find which machine learning model is best suited to predict sentiment (output) given a movie review (input).*"
   ]
  },
  {
   "cell_type": "markdown",
   "id": "79be5739",
   "metadata": {
    "papermill": {
     "duration": 0.02841,
     "end_time": "2022-03-15T05:15:15.186400",
     "exception": false,
     "start_time": "2022-03-15T05:15:15.157990",
     "status": "completed"
    },
    "tags": []
   },
   "source": [
    "\n",
    "# 1. Importing necessary libraries\n"
   ]
  },
  {
   "cell_type": "code",
   "execution_count": 1,
   "id": "db94f69e",
   "metadata": {
    "_cell_guid": "b1076dfc-b9ad-4769-8c92-a6c4dae69d19",
    "_uuid": "8f2839f25d086af736a60e9eeb907d3b93b6e0e5",
    "papermill": {
     "duration": 1.018891,
     "end_time": "2022-03-15T05:15:16.234290",
     "exception": false,
     "start_time": "2022-03-15T05:15:15.215399",
     "status": "completed"
    },
    "tags": []
   },
   "outputs": [],
   "source": [
    "import numpy as np \n",
    "import pandas as pd \n",
    "import matplotlib.pyplot as plt\n",
    "import seaborn as sns\n",
    "sns.set_style('darkgrid')"
   ]
  },
  {
   "cell_type": "markdown",
   "id": "8a1d81dc",
   "metadata": {
    "papermill": {
     "duration": 0.030442,
     "end_time": "2022-03-15T05:15:16.367290",
     "exception": false,
     "start_time": "2022-03-15T05:15:16.336848",
     "status": "completed"
    },
    "tags": []
   },
   "source": [
    "\n",
    "# 2. Preparing the data"
   ]
  },
  {
   "cell_type": "code",
   "execution_count": 2,
   "id": "caa736c0",
   "metadata": {
    "papermill": {
     "duration": 1.422331,
     "end_time": "2022-03-15T05:15:17.819318",
     "exception": false,
     "start_time": "2022-03-15T05:15:16.396987",
     "status": "completed"
    },
    "tags": []
   },
   "outputs": [
    {
     "data": {
      "text/html": [
       "<div>\n",
       "<style scoped>\n",
       "    .dataframe tbody tr th:only-of-type {\n",
       "        vertical-align: middle;\n",
       "    }\n",
       "\n",
       "    .dataframe tbody tr th {\n",
       "        vertical-align: top;\n",
       "    }\n",
       "\n",
       "    .dataframe thead th {\n",
       "        text-align: right;\n",
       "    }\n",
       "</style>\n",
       "<table border=\"1\" class=\"dataframe\">\n",
       "  <thead>\n",
       "    <tr style=\"text-align: right;\">\n",
       "      <th></th>\n",
       "      <th>Unnamed: 0</th>\n",
       "      <th>airline_sentiment</th>\n",
       "      <th>text</th>\n",
       "    </tr>\n",
       "  </thead>\n",
       "  <tbody>\n",
       "    <tr>\n",
       "      <th>0</th>\n",
       "      <td>1</td>\n",
       "      <td>positive</td>\n",
       "      <td>@VirginAmerica plus you've added commercials t...</td>\n",
       "    </tr>\n",
       "    <tr>\n",
       "      <th>1</th>\n",
       "      <td>3</td>\n",
       "      <td>negative</td>\n",
       "      <td>@VirginAmerica it's really aggressive to blast...</td>\n",
       "    </tr>\n",
       "    <tr>\n",
       "      <th>2</th>\n",
       "      <td>4</td>\n",
       "      <td>negative</td>\n",
       "      <td>@VirginAmerica and it's a really big bad thing...</td>\n",
       "    </tr>\n",
       "    <tr>\n",
       "      <th>3</th>\n",
       "      <td>5</td>\n",
       "      <td>negative</td>\n",
       "      <td>@VirginAmerica seriously would pay $30 a fligh...</td>\n",
       "    </tr>\n",
       "    <tr>\n",
       "      <th>4</th>\n",
       "      <td>6</td>\n",
       "      <td>positive</td>\n",
       "      <td>@VirginAmerica yes, nearly every time I fly VX...</td>\n",
       "    </tr>\n",
       "    <tr>\n",
       "      <th>...</th>\n",
       "      <td>...</td>\n",
       "      <td>...</td>\n",
       "      <td>...</td>\n",
       "    </tr>\n",
       "    <tr>\n",
       "      <th>11536</th>\n",
       "      <td>14633</td>\n",
       "      <td>negative</td>\n",
       "      <td>@AmericanAir my flight was Cancelled Flightled...</td>\n",
       "    </tr>\n",
       "    <tr>\n",
       "      <th>11537</th>\n",
       "      <td>14634</td>\n",
       "      <td>negative</td>\n",
       "      <td>@AmericanAir right on cue with the delays👌</td>\n",
       "    </tr>\n",
       "    <tr>\n",
       "      <th>11538</th>\n",
       "      <td>14635</td>\n",
       "      <td>positive</td>\n",
       "      <td>@AmericanAir thank you we got on a different f...</td>\n",
       "    </tr>\n",
       "    <tr>\n",
       "      <th>11539</th>\n",
       "      <td>14636</td>\n",
       "      <td>negative</td>\n",
       "      <td>@AmericanAir leaving over 20 minutes Late Flig...</td>\n",
       "    </tr>\n",
       "    <tr>\n",
       "      <th>11540</th>\n",
       "      <td>14638</td>\n",
       "      <td>negative</td>\n",
       "      <td>@AmericanAir you have my money, you change my ...</td>\n",
       "    </tr>\n",
       "  </tbody>\n",
       "</table>\n",
       "<p>11541 rows × 3 columns</p>\n",
       "</div>"
      ],
      "text/plain": [
       "       Unnamed: 0 airline_sentiment  \\\n",
       "0               1          positive   \n",
       "1               3          negative   \n",
       "2               4          negative   \n",
       "3               5          negative   \n",
       "4               6          positive   \n",
       "...           ...               ...   \n",
       "11536       14633          negative   \n",
       "11537       14634          negative   \n",
       "11538       14635          positive   \n",
       "11539       14636          negative   \n",
       "11540       14638          negative   \n",
       "\n",
       "                                                    text  \n",
       "0      @VirginAmerica plus you've added commercials t...  \n",
       "1      @VirginAmerica it's really aggressive to blast...  \n",
       "2      @VirginAmerica and it's a really big bad thing...  \n",
       "3      @VirginAmerica seriously would pay $30 a fligh...  \n",
       "4      @VirginAmerica yes, nearly every time I fly VX...  \n",
       "...                                                  ...  \n",
       "11536  @AmericanAir my flight was Cancelled Flightled...  \n",
       "11537         @AmericanAir right on cue with the delays👌  \n",
       "11538  @AmericanAir thank you we got on a different f...  \n",
       "11539  @AmericanAir leaving over 20 minutes Late Flig...  \n",
       "11540  @AmericanAir you have my money, you change my ...  \n",
       "\n",
       "[11541 rows x 3 columns]"
      ]
     },
     "execution_count": 2,
     "metadata": {},
     "output_type": "execute_result"
    }
   ],
   "source": [
    "df_review = pd.read_csv(\"airline_sentiment_analysis.csv\")\n",
    "df_review"
   ]
  },
  {
   "cell_type": "markdown",
   "id": "8552b50d",
   "metadata": {
    "papermill": {
     "duration": 0.029786,
     "end_time": "2022-03-15T05:15:17.879054",
     "exception": false,
     "start_time": "2022-03-15T05:15:17.849268",
     "status": "completed"
    },
    "tags": []
   },
   "source": [
    "This dataset contains 50000 rows; however, to train our model faster in the following steps, we’re going to take a smaller sample of 10000 rows. This small sample will contain 9000 positive and 1000 negative reviews to make the data imbalanced (so I can teach you undersampling and oversampling techniques in the next step)"
   ]
  },
  {
   "cell_type": "code",
   "execution_count": 3,
   "id": "eb4920fc",
   "metadata": {
    "papermill": {
     "duration": 0.055791,
     "end_time": "2022-03-15T05:15:17.964973",
     "exception": false,
     "start_time": "2022-03-15T05:15:17.909182",
     "status": "completed"
    },
    "tags": []
   },
   "outputs": [],
   "source": [
    "df_positive = df_review[df_review['airline_sentiment']=='positive'][:9000]\n",
    "df_negative = df_review[df_review['airline_sentiment']=='negative'][:1000]\n",
    "\n",
    "df_review_imb = pd.concat([df_positive,df_negative ])"
   ]
  },
  {
   "cell_type": "markdown",
   "id": "d13a5a30",
   "metadata": {
    "papermill": {
     "duration": 0.029572,
     "end_time": "2022-03-15T05:15:18.025347",
     "exception": false,
     "start_time": "2022-03-15T05:15:17.995775",
     "status": "completed"
    },
    "tags": []
   },
   "source": [
    "## Dealing with Imbalanced Classes\n",
    "\n",
    "In most cases, you’ll have a large amount of data for one class, and much fewer observations for other classes. This is known as imbalanced data because the number of observations per class is not equally distributed.\n",
    "\n",
    "Let’s take a look at how our df_review_imb dataset is distributed."
   ]
  },
  {
   "cell_type": "code",
   "execution_count": 4,
   "id": "ab26e2fc",
   "metadata": {
    "papermill": {
     "duration": 0.250269,
     "end_time": "2022-03-15T05:15:18.306754",
     "exception": false,
     "start_time": "2022-03-15T05:15:18.056485",
     "status": "completed"
    },
    "tags": []
   },
   "outputs": [
    {
     "data": {
      "image/png": "[encoded data removed]",
      "text/plain": [
       "<Figure size 576x288 with 1 Axes>"
      ]
     },
     "metadata": {},
     "output_type": "display_data"
    }
   ],
   "source": [
    "colors = sns.color_palette('deep')\n",
    "\n",
    "plt.figure(figsize=(8,4), tight_layout=True)\n",
    "plt.bar(x=['Positive', 'Negative'],\n",
    "        height=df_review_imb.value_counts(['airline_sentiment']),\n",
    "        color=colors[:2])\n",
    "plt.title('Sentiment')\n",
    "plt.savefig('sentiment.png')\n",
    "plt.show()"
   ]
  },
  {
   "cell_type": "markdown",
   "id": "2495ecba",
   "metadata": {
    "papermill": {
     "duration": 0.030132,
     "end_time": "2022-03-15T05:15:18.367749",
     "exception": false,
     "start_time": "2022-03-15T05:15:18.337617",
     "status": "completed"
    },
    "tags": []
   },
   "source": [
    "To resample our data we use the imblearn library. You can either undersample positive reviews or oversample negative reviews (you need to choose based on the data you’re working with). In this case, we’ll use the RandomUnderSampler"
   ]
  },
  {
   "cell_type": "code",
   "execution_count": 5,
   "id": "6189f3a8",
   "metadata": {
    "papermill": {
     "duration": 0.594649,
     "end_time": "2022-03-15T05:15:18.992609",
     "exception": false,
     "start_time": "2022-03-15T05:15:18.397960",
     "status": "completed"
    },
    "tags": []
   },
   "outputs": [
    {
     "data": {
      "text/html": [
       "<div>\n",
       "<style scoped>\n",
       "    .dataframe tbody tr th:only-of-type {\n",
       "        vertical-align: middle;\n",
       "    }\n",
       "\n",
       "    .dataframe tbody tr th {\n",
       "        vertical-align: top;\n",
       "    }\n",
       "\n",
       "    .dataframe thead th {\n",
       "        text-align: right;\n",
       "    }\n",
       "</style>\n",
       "<table border=\"1\" class=\"dataframe\">\n",
       "  <thead>\n",
       "    <tr style=\"text-align: right;\">\n",
       "      <th></th>\n",
       "      <th>text</th>\n",
       "      <th>airline_sentiment</th>\n",
       "    </tr>\n",
       "  </thead>\n",
       "  <tbody>\n",
       "    <tr>\n",
       "      <th>0</th>\n",
       "      <td>@VirginAmerica it's really aggressive to blast...</td>\n",
       "      <td>negative</td>\n",
       "    </tr>\n",
       "    <tr>\n",
       "      <th>1</th>\n",
       "      <td>@VirginAmerica and it's a really big bad thing...</td>\n",
       "      <td>negative</td>\n",
       "    </tr>\n",
       "    <tr>\n",
       "      <th>2</th>\n",
       "      <td>@VirginAmerica seriously would pay $30 a fligh...</td>\n",
       "      <td>negative</td>\n",
       "    </tr>\n",
       "    <tr>\n",
       "      <th>3</th>\n",
       "      <td>@VirginAmerica SFO-PDX schedule is still MIA.</td>\n",
       "      <td>negative</td>\n",
       "    </tr>\n",
       "    <tr>\n",
       "      <th>4</th>\n",
       "      <td>@VirginAmerica  I flew from NYC to SFO last we...</td>\n",
       "      <td>negative</td>\n",
       "    </tr>\n",
       "    <tr>\n",
       "      <th>...</th>\n",
       "      <td>...</td>\n",
       "      <td>...</td>\n",
       "    </tr>\n",
       "    <tr>\n",
       "      <th>1995</th>\n",
       "      <td>@JetBlue Hi! Just wanted to see if you have an...</td>\n",
       "      <td>positive</td>\n",
       "    </tr>\n",
       "    <tr>\n",
       "      <th>1996</th>\n",
       "      <td>@united please do! She went above and beyond w...</td>\n",
       "      <td>positive</td>\n",
       "    </tr>\n",
       "    <tr>\n",
       "      <th>1997</th>\n",
       "      <td>@AmericanAir thanks.  I actually made it, my c...</td>\n",
       "      <td>positive</td>\n",
       "    </tr>\n",
       "    <tr>\n",
       "      <th>1998</th>\n",
       "      <td>@AmericanAir This is exactly why ill be flying...</td>\n",
       "      <td>positive</td>\n",
       "    </tr>\n",
       "    <tr>\n",
       "      <th>1999</th>\n",
       "      <td>@SouthwestAir already booked my tickets for Au...</td>\n",
       "      <td>positive</td>\n",
       "    </tr>\n",
       "  </tbody>\n",
       "</table>\n",
       "<p>2000 rows × 2 columns</p>\n",
       "</div>"
      ],
      "text/plain": [
       "                                                   text airline_sentiment\n",
       "0     @VirginAmerica it's really aggressive to blast...          negative\n",
       "1     @VirginAmerica and it's a really big bad thing...          negative\n",
       "2     @VirginAmerica seriously would pay $30 a fligh...          negative\n",
       "3         @VirginAmerica SFO-PDX schedule is still MIA.          negative\n",
       "4     @VirginAmerica  I flew from NYC to SFO last we...          negative\n",
       "...                                                 ...               ...\n",
       "1995  @JetBlue Hi! Just wanted to see if you have an...          positive\n",
       "1996  @united please do! She went above and beyond w...          positive\n",
       "1997  @AmericanAir thanks.  I actually made it, my c...          positive\n",
       "1998  @AmericanAir This is exactly why ill be flying...          positive\n",
       "1999  @SouthwestAir already booked my tickets for Au...          positive\n",
       "\n",
       "[2000 rows x 2 columns]"
      ]
     },
     "execution_count": 5,
     "metadata": {},
     "output_type": "execute_result"
    }
   ],
   "source": [
    "from imblearn.under_sampling import RandomUnderSampler\n",
    "rus = RandomUnderSampler(random_state= 0)\n",
    "df_review_bal,df_review_bal['airline_sentiment']=rus.fit_resample(df_review_imb[['text']],df_review_imb['airline_sentiment'])\n",
    "\n",
    "\n",
    "df_review_bal"
   ]
  },
  {
   "cell_type": "markdown",
   "id": "b43f23ee",
   "metadata": {
    "papermill": {
     "duration": 0.030799,
     "end_time": "2022-03-15T05:15:19.054687",
     "exception": false,
     "start_time": "2022-03-15T05:15:19.023888",
     "status": "completed"
    },
    "tags": []
   },
   "source": [
    "We can compare the imbalanced and balanced dataset with the following code."
   ]
  },
  {
   "cell_type": "code",
   "execution_count": 6,
   "id": "ba52f913",
   "metadata": {
    "papermill": {
     "duration": 0.043514,
     "end_time": "2022-03-15T05:15:19.129336",
     "exception": false,
     "start_time": "2022-03-15T05:15:19.085822",
     "status": "completed"
    },
    "tags": []
   },
   "outputs": [
    {
     "name": "stdout",
     "output_type": "stream",
     "text": [
      "airline_sentiment\n",
      "positive    2363\n",
      "negative    1000\n",
      "dtype: int64\n",
      "airline_sentiment\n",
      "negative    1000\n",
      "positive    1000\n",
      "dtype: int64\n"
     ]
    }
   ],
   "source": [
    "print(df_review_imb.value_counts('airline_sentiment'))\n",
    "print(df_review_bal.value_counts('airline_sentiment'))"
   ]
  },
  {
   "cell_type": "markdown",
   "id": "88184a48",
   "metadata": {
    "papermill": {
     "duration": 0.031289,
     "end_time": "2022-03-15T05:15:19.191739",
     "exception": false,
     "start_time": "2022-03-15T05:15:19.160450",
     "status": "completed"
    },
    "tags": []
   },
   "source": [
    "\n",
    "## Splitting data into train and test set\n"
   ]
  },
  {
   "cell_type": "code",
   "execution_count": 7,
   "id": "e6c0f472",
   "metadata": {
    "papermill": {
     "duration": 0.040695,
     "end_time": "2022-03-15T05:15:19.264415",
     "exception": false,
     "start_time": "2022-03-15T05:15:19.223720",
     "status": "completed"
    },
    "tags": []
   },
   "outputs": [],
   "source": [
    "from sklearn.model_selection import train_test_split"
   ]
  },
  {
   "cell_type": "code",
   "execution_count": 8,
   "id": "d50c4a41-dec3-4113-bd7c-2b1f68f1ad69",
   "metadata": {},
   "outputs": [],
   "source": [
    "class train_test_datasets:\n",
    "   # def __init__(self,dataset):\n",
    "    #    self.dataset=dataset\n",
    "    def get_dataset(dataset):\n",
    "        train,test=train_test_split(dataset,test_size=0.33,random_state=42)\n",
    "        return train,test\n",
    "train,test=train_test_datasets.get_dataset(df_review_bal)"
   ]
  },
  {
   "cell_type": "code",
   "execution_count": 9,
   "id": "40d9dabf-6c31-42e0-9e5c-db6404be765a",
   "metadata": {},
   "outputs": [
    {
     "data": {
      "text/html": [
       "<div>\n",
       "<style scoped>\n",
       "    .dataframe tbody tr th:only-of-type {\n",
       "        vertical-align: middle;\n",
       "    }\n",
       "\n",
       "    .dataframe tbody tr th {\n",
       "        vertical-align: top;\n",
       "    }\n",
       "\n",
       "    .dataframe thead th {\n",
       "        text-align: right;\n",
       "    }\n",
       "</style>\n",
       "<table border=\"1\" class=\"dataframe\">\n",
       "  <thead>\n",
       "    <tr style=\"text-align: right;\">\n",
       "      <th></th>\n",
       "      <th>text</th>\n",
       "      <th>airline_sentiment</th>\n",
       "    </tr>\n",
       "  </thead>\n",
       "  <tbody>\n",
       "    <tr>\n",
       "      <th>81</th>\n",
       "      <td>@VirginAmerica You have any flights flying int...</td>\n",
       "      <td>negative</td>\n",
       "    </tr>\n",
       "    <tr>\n",
       "      <th>915</th>\n",
       "      <td>@united your seats are god awful.</td>\n",
       "      <td>negative</td>\n",
       "    </tr>\n",
       "    <tr>\n",
       "      <th>1018</th>\n",
       "      <td>@USAirways Thank you. And thanks for being so ...</td>\n",
       "      <td>positive</td>\n",
       "    </tr>\n",
       "    <tr>\n",
       "      <th>380</th>\n",
       "      <td>@united Well the bar is set low! You guys are ...</td>\n",
       "      <td>negative</td>\n",
       "    </tr>\n",
       "    <tr>\n",
       "      <th>1029</th>\n",
       "      <td>@SouthwestAir Make the world a better place: V...</td>\n",
       "      <td>positive</td>\n",
       "    </tr>\n",
       "  </tbody>\n",
       "</table>\n",
       "</div>"
      ],
      "text/plain": [
       "                                                   text airline_sentiment\n",
       "81    @VirginAmerica You have any flights flying int...          negative\n",
       "915                   @united your seats are god awful.          negative\n",
       "1018  @USAirways Thank you. And thanks for being so ...          positive\n",
       "380   @united Well the bar is set low! You guys are ...          negative\n",
       "1029  @SouthwestAir Make the world a better place: V...          positive"
      ]
     },
     "execution_count": 9,
     "metadata": {},
     "output_type": "execute_result"
    }
   ],
   "source": [
    "train.head()"
   ]
  },
  {
   "cell_type": "code",
   "execution_count": 10,
   "id": "94498fbc-1a96-491a-9b79-9eed4ea549e5",
   "metadata": {},
   "outputs": [
    {
     "data": {
      "text/html": [
       "<div>\n",
       "<style scoped>\n",
       "    .dataframe tbody tr th:only-of-type {\n",
       "        vertical-align: middle;\n",
       "    }\n",
       "\n",
       "    .dataframe tbody tr th {\n",
       "        vertical-align: top;\n",
       "    }\n",
       "\n",
       "    .dataframe thead th {\n",
       "        text-align: right;\n",
       "    }\n",
       "</style>\n",
       "<table border=\"1\" class=\"dataframe\">\n",
       "  <thead>\n",
       "    <tr style=\"text-align: right;\">\n",
       "      <th></th>\n",
       "      <th>text</th>\n",
       "      <th>airline_sentiment</th>\n",
       "    </tr>\n",
       "  </thead>\n",
       "  <tbody>\n",
       "    <tr>\n",
       "      <th>1860</th>\n",
       "      <td>@AmericanAir - Whoooo Hooooo just crossed 25,3...</td>\n",
       "      <td>positive</td>\n",
       "    </tr>\n",
       "    <tr>\n",
       "      <th>353</th>\n",
       "      <td>@united Lost bag process is broken. Agent prom...</td>\n",
       "      <td>negative</td>\n",
       "    </tr>\n",
       "    <tr>\n",
       "      <th>1333</th>\n",
       "      <td>@AmericanAir I don't think you should help him...</td>\n",
       "      <td>positive</td>\n",
       "    </tr>\n",
       "    <tr>\n",
       "      <th>905</th>\n",
       "      <td>@united, you just caused a riot on the airplan...</td>\n",
       "      <td>negative</td>\n",
       "    </tr>\n",
       "    <tr>\n",
       "      <th>1289</th>\n",
       "      <td>@united DM sent.  Thanks.</td>\n",
       "      <td>positive</td>\n",
       "    </tr>\n",
       "  </tbody>\n",
       "</table>\n",
       "</div>"
      ],
      "text/plain": [
       "                                                   text airline_sentiment\n",
       "1860  @AmericanAir - Whoooo Hooooo just crossed 25,3...          positive\n",
       "353   @united Lost bag process is broken. Agent prom...          negative\n",
       "1333  @AmericanAir I don't think you should help him...          positive\n",
       "905   @united, you just caused a riot on the airplan...          negative\n",
       "1289                          @united DM sent.  Thanks.          positive"
      ]
     },
     "execution_count": 10,
     "metadata": {},
     "output_type": "execute_result"
    }
   ],
   "source": [
    "test.head()"
   ]
  },
  {
   "cell_type": "code",
   "execution_count": 11,
   "id": "44ca4804",
   "metadata": {
    "papermill": {
     "duration": 0.039134,
     "end_time": "2022-03-15T05:15:19.334778",
     "exception": false,
     "start_time": "2022-03-15T05:15:19.295644",
     "status": "completed"
    },
    "tags": []
   },
   "outputs": [],
   "source": [
    "train_x, train_y = train['text'], train['airline_sentiment']\n",
    "test_x, test_y = test['text'], test['airline_sentiment']"
   ]
  },
  {
   "cell_type": "code",
   "execution_count": 12,
   "id": "3c6a4c66",
   "metadata": {
    "papermill": {
     "duration": 0.043005,
     "end_time": "2022-03-15T05:15:19.408686",
     "exception": false,
     "start_time": "2022-03-15T05:15:19.365681",
     "status": "completed"
    },
    "tags": []
   },
   "outputs": [
    {
     "data": {
      "text/plain": [
       "negative    675\n",
       "positive    665\n",
       "Name: airline_sentiment, dtype: int64"
      ]
     },
     "execution_count": 12,
     "metadata": {},
     "output_type": "execute_result"
    }
   ],
   "source": [
    "train_y.value_counts()"
   ]
  },
  {
   "cell_type": "markdown",
   "id": "17ffb83c",
   "metadata": {
    "papermill": {
     "duration": 0.031909,
     "end_time": "2022-03-15T05:15:19.471693",
     "exception": false,
     "start_time": "2022-03-15T05:15:19.439784",
     "status": "completed"
    },
    "tags": []
   },
   "source": [
    "\n",
    "# 3.Text Representation (Bag of words)\n"
   ]
  },
  {
   "cell_type": "markdown",
   "id": "b549637e",
   "metadata": {
    "papermill": {
     "duration": 0.031084,
     "end_time": "2022-03-15T05:15:19.534017",
     "exception": false,
     "start_time": "2022-03-15T05:15:19.502933",
     "status": "completed"
    },
    "tags": []
   },
   "source": [
    "Classifiers and learning algorithms expect numerical feature vectors rather than raw text documents. This is why we need to turn our movie review text into numerical vectors.\n",
    "\n",
    "we’ll use bag of words (BOW) since we care about the frequency of the words in text reviews; however, the order of words is irrelevant. Two common ways to represent bag of words are CountVectorizer and Term Frequency, Inverse Document Frequency (TF-IDF)"
   ]
  },
  {
   "cell_type": "markdown",
   "id": "34bc488b",
   "metadata": {
    "execution": {
     "iopub.execute_input": "2022-03-14T02:31:48.605113Z",
     "iopub.status.busy": "2022-03-14T02:31:48.604278Z",
     "iopub.status.idle": "2022-03-14T02:31:48.612924Z",
     "shell.execute_reply": "2022-03-14T02:31:48.611661Z",
     "shell.execute_reply.started": "2022-03-14T02:31:48.605055Z"
    },
    "papermill": {
     "duration": 0.030941,
     "end_time": "2022-03-15T05:15:19.597449",
     "exception": false,
     "start_time": "2022-03-15T05:15:19.566508",
     "status": "completed"
    },
    "tags": []
   },
   "source": [
    "we want to identify unique/representative words for positive reviews and negative reviews, so we’ll choose the TF-IDF. To turn text data into numerical vectors with TF-IDF"
   ]
  },
  {
   "cell_type": "code",
   "execution_count": 13,
   "id": "a6b4b597",
   "metadata": {
    "papermill": {
     "duration": 0.391793,
     "end_time": "2022-03-15T05:15:20.020575",
     "exception": false,
     "start_time": "2022-03-15T05:15:19.628782",
     "status": "completed"
    },
    "tags": []
   },
   "outputs": [],
   "source": [
    "from sklearn.feature_extraction.text import TfidfVectorizer\n",
    "\n",
    "tfidf = TfidfVectorizer(stop_words='english')\n",
    "train_x_vector = tfidf.fit_transform(train_x)\n",
    "# also fit the test_x_vector\n",
    "test_x_vector = tfidf.transform(test_x)\n"
   ]
  },
  {
   "cell_type": "markdown",
   "id": "f2c8221d",
   "metadata": {
    "papermill": {
     "duration": 0.033204,
     "end_time": "2022-03-15T05:15:20.085433",
     "exception": false,
     "start_time": "2022-03-15T05:15:20.052229",
     "status": "completed"
    },
    "tags": []
   },
   "source": [
    "Finally, let's also transform the test_x_vector, so we can test the accuracy of the model later "
   ]
  },
  {
   "cell_type": "code",
   "execution_count": 14,
   "id": "ab8fb7b2",
   "metadata": {
    "papermill": {
     "duration": 0.691442,
     "end_time": "2022-03-15T05:15:20.809614",
     "exception": false,
     "start_time": "2022-03-15T05:15:20.118172",
     "status": "completed"
    },
    "tags": []
   },
   "outputs": [
    {
     "name": "stderr",
     "output_type": "stream",
     "text": [
      "C:\\Users\\sunna\\anaconda3\\lib\\site-packages\\sklearn\\utils\\deprecation.py:87: FutureWarning: Function get_feature_names is deprecated; get_feature_names is deprecated in 1.0 and will be removed in 1.2. Please use get_feature_names_out instead.\n",
      "  warnings.warn(msg, category=FutureWarning)\n"
     ]
    },
    {
     "data": {
      "text/html": [
       "<div>\n",
       "<style scoped>\n",
       "    .dataframe tbody tr th:only-of-type {\n",
       "        vertical-align: middle;\n",
       "    }\n",
       "\n",
       "    .dataframe tbody tr th {\n",
       "        vertical-align: top;\n",
       "    }\n",
       "\n",
       "    .dataframe thead th {\n",
       "        text-align: right;\n",
       "    }\n",
       "</style>\n",
       "<table border=\"1\" class=\"dataframe\">\n",
       "  <thead>\n",
       "    <tr style=\"text-align: right;\">\n",
       "      <th></th>\n",
       "      <th>00</th>\n",
       "      <th>000</th>\n",
       "      <th>000419</th>\n",
       "      <th>0016</th>\n",
       "      <th>00pm</th>\n",
       "      <th>0162389030167</th>\n",
       "      <th>0162424965446</th>\n",
       "      <th>05</th>\n",
       "      <th>0prgysvurm</th>\n",
       "      <th>10</th>\n",
       "      <th>...</th>\n",
       "      <th>yr</th>\n",
       "      <th>yvonne</th>\n",
       "      <th>yxn00pnoav</th>\n",
       "      <th>yyz</th>\n",
       "      <th>zambia</th>\n",
       "      <th>zcbjyo6lsn</th>\n",
       "      <th>zcc82u</th>\n",
       "      <th>zero</th>\n",
       "      <th>zf5wjgtxzt</th>\n",
       "      <th>zone</th>\n",
       "    </tr>\n",
       "  </thead>\n",
       "  <tbody>\n",
       "    <tr>\n",
       "      <th>81</th>\n",
       "      <td>0.0</td>\n",
       "      <td>0.0</td>\n",
       "      <td>0.0</td>\n",
       "      <td>0.0</td>\n",
       "      <td>0.0</td>\n",
       "      <td>0.0</td>\n",
       "      <td>0.0</td>\n",
       "      <td>0.0</td>\n",
       "      <td>0.0</td>\n",
       "      <td>0.0</td>\n",
       "      <td>...</td>\n",
       "      <td>0.0</td>\n",
       "      <td>0.0</td>\n",
       "      <td>0.0</td>\n",
       "      <td>0.0</td>\n",
       "      <td>0.0</td>\n",
       "      <td>0.0</td>\n",
       "      <td>0.0</td>\n",
       "      <td>0.0</td>\n",
       "      <td>0.0</td>\n",
       "      <td>0.0</td>\n",
       "    </tr>\n",
       "    <tr>\n",
       "      <th>915</th>\n",
       "      <td>0.0</td>\n",
       "      <td>0.0</td>\n",
       "      <td>0.0</td>\n",
       "      <td>0.0</td>\n",
       "      <td>0.0</td>\n",
       "      <td>0.0</td>\n",
       "      <td>0.0</td>\n",
       "      <td>0.0</td>\n",
       "      <td>0.0</td>\n",
       "      <td>0.0</td>\n",
       "      <td>...</td>\n",
       "      <td>0.0</td>\n",
       "      <td>0.0</td>\n",
       "      <td>0.0</td>\n",
       "      <td>0.0</td>\n",
       "      <td>0.0</td>\n",
       "      <td>0.0</td>\n",
       "      <td>0.0</td>\n",
       "      <td>0.0</td>\n",
       "      <td>0.0</td>\n",
       "      <td>0.0</td>\n",
       "    </tr>\n",
       "    <tr>\n",
       "      <th>1018</th>\n",
       "      <td>0.0</td>\n",
       "      <td>0.0</td>\n",
       "      <td>0.0</td>\n",
       "      <td>0.0</td>\n",
       "      <td>0.0</td>\n",
       "      <td>0.0</td>\n",
       "      <td>0.0</td>\n",
       "      <td>0.0</td>\n",
       "      <td>0.0</td>\n",
       "      <td>0.0</td>\n",
       "      <td>...</td>\n",
       "      <td>0.0</td>\n",
       "      <td>0.0</td>\n",
       "      <td>0.0</td>\n",
       "      <td>0.0</td>\n",
       "      <td>0.0</td>\n",
       "      <td>0.0</td>\n",
       "      <td>0.0</td>\n",
       "      <td>0.0</td>\n",
       "      <td>0.0</td>\n",
       "      <td>0.0</td>\n",
       "    </tr>\n",
       "    <tr>\n",
       "      <th>380</th>\n",
       "      <td>0.0</td>\n",
       "      <td>0.0</td>\n",
       "      <td>0.0</td>\n",
       "      <td>0.0</td>\n",
       "      <td>0.0</td>\n",
       "      <td>0.0</td>\n",
       "      <td>0.0</td>\n",
       "      <td>0.0</td>\n",
       "      <td>0.0</td>\n",
       "      <td>0.0</td>\n",
       "      <td>...</td>\n",
       "      <td>0.0</td>\n",
       "      <td>0.0</td>\n",
       "      <td>0.0</td>\n",
       "      <td>0.0</td>\n",
       "      <td>0.0</td>\n",
       "      <td>0.0</td>\n",
       "      <td>0.0</td>\n",
       "      <td>0.0</td>\n",
       "      <td>0.0</td>\n",
       "      <td>0.0</td>\n",
       "    </tr>\n",
       "    <tr>\n",
       "      <th>1029</th>\n",
       "      <td>0.0</td>\n",
       "      <td>0.0</td>\n",
       "      <td>0.0</td>\n",
       "      <td>0.0</td>\n",
       "      <td>0.0</td>\n",
       "      <td>0.0</td>\n",
       "      <td>0.0</td>\n",
       "      <td>0.0</td>\n",
       "      <td>0.0</td>\n",
       "      <td>0.0</td>\n",
       "      <td>...</td>\n",
       "      <td>0.0</td>\n",
       "      <td>0.0</td>\n",
       "      <td>0.0</td>\n",
       "      <td>0.0</td>\n",
       "      <td>0.0</td>\n",
       "      <td>0.0</td>\n",
       "      <td>0.0</td>\n",
       "      <td>0.0</td>\n",
       "      <td>0.0</td>\n",
       "      <td>0.0</td>\n",
       "    </tr>\n",
       "    <tr>\n",
       "      <th>...</th>\n",
       "      <td>...</td>\n",
       "      <td>...</td>\n",
       "      <td>...</td>\n",
       "      <td>...</td>\n",
       "      <td>...</td>\n",
       "      <td>...</td>\n",
       "      <td>...</td>\n",
       "      <td>...</td>\n",
       "      <td>...</td>\n",
       "      <td>...</td>\n",
       "      <td>...</td>\n",
       "      <td>...</td>\n",
       "      <td>...</td>\n",
       "      <td>...</td>\n",
       "      <td>...</td>\n",
       "      <td>...</td>\n",
       "      <td>...</td>\n",
       "      <td>...</td>\n",
       "      <td>...</td>\n",
       "      <td>...</td>\n",
       "      <td>...</td>\n",
       "    </tr>\n",
       "    <tr>\n",
       "      <th>1130</th>\n",
       "      <td>0.0</td>\n",
       "      <td>0.0</td>\n",
       "      <td>0.0</td>\n",
       "      <td>0.0</td>\n",
       "      <td>0.0</td>\n",
       "      <td>0.0</td>\n",
       "      <td>0.0</td>\n",
       "      <td>0.0</td>\n",
       "      <td>0.0</td>\n",
       "      <td>0.0</td>\n",
       "      <td>...</td>\n",
       "      <td>0.0</td>\n",
       "      <td>0.0</td>\n",
       "      <td>0.0</td>\n",
       "      <td>0.0</td>\n",
       "      <td>0.0</td>\n",
       "      <td>0.0</td>\n",
       "      <td>0.0</td>\n",
       "      <td>0.0</td>\n",
       "      <td>0.0</td>\n",
       "      <td>0.0</td>\n",
       "    </tr>\n",
       "    <tr>\n",
       "      <th>1294</th>\n",
       "      <td>0.0</td>\n",
       "      <td>0.0</td>\n",
       "      <td>0.0</td>\n",
       "      <td>0.0</td>\n",
       "      <td>0.0</td>\n",
       "      <td>0.0</td>\n",
       "      <td>0.0</td>\n",
       "      <td>0.0</td>\n",
       "      <td>0.0</td>\n",
       "      <td>0.0</td>\n",
       "      <td>...</td>\n",
       "      <td>0.0</td>\n",
       "      <td>0.0</td>\n",
       "      <td>0.0</td>\n",
       "      <td>0.0</td>\n",
       "      <td>0.0</td>\n",
       "      <td>0.0</td>\n",
       "      <td>0.0</td>\n",
       "      <td>0.0</td>\n",
       "      <td>0.0</td>\n",
       "      <td>0.0</td>\n",
       "    </tr>\n",
       "    <tr>\n",
       "      <th>860</th>\n",
       "      <td>0.0</td>\n",
       "      <td>0.0</td>\n",
       "      <td>0.0</td>\n",
       "      <td>0.0</td>\n",
       "      <td>0.0</td>\n",
       "      <td>0.0</td>\n",
       "      <td>0.0</td>\n",
       "      <td>0.0</td>\n",
       "      <td>0.0</td>\n",
       "      <td>0.0</td>\n",
       "      <td>...</td>\n",
       "      <td>0.0</td>\n",
       "      <td>0.0</td>\n",
       "      <td>0.0</td>\n",
       "      <td>0.0</td>\n",
       "      <td>0.0</td>\n",
       "      <td>0.0</td>\n",
       "      <td>0.0</td>\n",
       "      <td>0.0</td>\n",
       "      <td>0.0</td>\n",
       "      <td>0.0</td>\n",
       "    </tr>\n",
       "    <tr>\n",
       "      <th>1459</th>\n",
       "      <td>0.0</td>\n",
       "      <td>0.0</td>\n",
       "      <td>0.0</td>\n",
       "      <td>0.0</td>\n",
       "      <td>0.0</td>\n",
       "      <td>0.0</td>\n",
       "      <td>0.0</td>\n",
       "      <td>0.0</td>\n",
       "      <td>0.0</td>\n",
       "      <td>0.0</td>\n",
       "      <td>...</td>\n",
       "      <td>0.0</td>\n",
       "      <td>0.0</td>\n",
       "      <td>0.0</td>\n",
       "      <td>0.0</td>\n",
       "      <td>0.0</td>\n",
       "      <td>0.0</td>\n",
       "      <td>0.0</td>\n",
       "      <td>0.0</td>\n",
       "      <td>0.0</td>\n",
       "      <td>0.0</td>\n",
       "    </tr>\n",
       "    <tr>\n",
       "      <th>1126</th>\n",
       "      <td>0.0</td>\n",
       "      <td>0.0</td>\n",
       "      <td>0.0</td>\n",
       "      <td>0.0</td>\n",
       "      <td>0.0</td>\n",
       "      <td>0.0</td>\n",
       "      <td>0.0</td>\n",
       "      <td>0.0</td>\n",
       "      <td>0.0</td>\n",
       "      <td>0.0</td>\n",
       "      <td>...</td>\n",
       "      <td>0.0</td>\n",
       "      <td>0.0</td>\n",
       "      <td>0.0</td>\n",
       "      <td>0.0</td>\n",
       "      <td>0.0</td>\n",
       "      <td>0.0</td>\n",
       "      <td>0.0</td>\n",
       "      <td>0.0</td>\n",
       "      <td>0.0</td>\n",
       "      <td>0.0</td>\n",
       "    </tr>\n",
       "  </tbody>\n",
       "</table>\n",
       "<p>1340 rows × 3338 columns</p>\n",
       "</div>"
      ],
      "text/plain": [
       "       00  000  000419  0016  00pm  0162389030167  0162424965446   05  \\\n",
       "81    0.0  0.0     0.0   0.0   0.0            0.0            0.0  0.0   \n",
       "915   0.0  0.0     0.0   0.0   0.0            0.0            0.0  0.0   \n",
       "1018  0.0  0.0     0.0   0.0   0.0            0.0            0.0  0.0   \n",
       "380   0.0  0.0     0.0   0.0   0.0            0.0            0.0  0.0   \n",
       "1029  0.0  0.0     0.0   0.0   0.0            0.0            0.0  0.0   \n",
       "...   ...  ...     ...   ...   ...            ...            ...  ...   \n",
       "1130  0.0  0.0     0.0   0.0   0.0            0.0            0.0  0.0   \n",
       "1294  0.0  0.0     0.0   0.0   0.0            0.0            0.0  0.0   \n",
       "860   0.0  0.0     0.0   0.0   0.0            0.0            0.0  0.0   \n",
       "1459  0.0  0.0     0.0   0.0   0.0            0.0            0.0  0.0   \n",
       "1126  0.0  0.0     0.0   0.0   0.0            0.0            0.0  0.0   \n",
       "\n",
       "      0prgysvurm   10  ...   yr  yvonne  yxn00pnoav  yyz  zambia  zcbjyo6lsn  \\\n",
       "81           0.0  0.0  ...  0.0     0.0         0.0  0.0     0.0         0.0   \n",
       "915          0.0  0.0  ...  0.0     0.0         0.0  0.0     0.0         0.0   \n",
       "1018         0.0  0.0  ...  0.0     0.0         0.0  0.0     0.0         0.0   \n",
       "380          0.0  0.0  ...  0.0     0.0         0.0  0.0     0.0         0.0   \n",
       "1029         0.0  0.0  ...  0.0     0.0         0.0  0.0     0.0         0.0   \n",
       "...          ...  ...  ...  ...     ...         ...  ...     ...         ...   \n",
       "1130         0.0  0.0  ...  0.0     0.0         0.0  0.0     0.0         0.0   \n",
       "1294         0.0  0.0  ...  0.0     0.0         0.0  0.0     0.0         0.0   \n",
       "860          0.0  0.0  ...  0.0     0.0         0.0  0.0     0.0         0.0   \n",
       "1459         0.0  0.0  ...  0.0     0.0         0.0  0.0     0.0         0.0   \n",
       "1126         0.0  0.0  ...  0.0     0.0         0.0  0.0     0.0         0.0   \n",
       "\n",
       "      zcc82u  zero  zf5wjgtxzt  zone  \n",
       "81       0.0   0.0         0.0   0.0  \n",
       "915      0.0   0.0         0.0   0.0  \n",
       "1018     0.0   0.0         0.0   0.0  \n",
       "380      0.0   0.0         0.0   0.0  \n",
       "1029     0.0   0.0         0.0   0.0  \n",
       "...      ...   ...         ...   ...  \n",
       "1130     0.0   0.0         0.0   0.0  \n",
       "1294     0.0   0.0         0.0   0.0  \n",
       "860      0.0   0.0         0.0   0.0  \n",
       "1459     0.0   0.0         0.0   0.0  \n",
       "1126     0.0   0.0         0.0   0.0  \n",
       "\n",
       "[1340 rows x 3338 columns]"
      ]
     },
     "execution_count": 14,
     "metadata": {},
     "output_type": "execute_result"
    }
   ],
   "source": [
    "pd.DataFrame.sparse.from_spmatrix(train_x_vector,\n",
    "                                  index=train_x.index,\n",
    "                                  columns=tfidf.get_feature_names())"
   ]
  },
  {
   "cell_type": "markdown",
   "id": "11352f52",
   "metadata": {
    "papermill": {
     "duration": 0.032306,
     "end_time": "2022-03-15T05:15:20.874383",
     "exception": false,
     "start_time": "2022-03-15T05:15:20.842077",
     "status": "completed"
    },
    "tags": []
   },
   "source": [
    "# 4.Model Selection\n",
    "\n",
    "In our example, our input (review) and output (sentiment) are clearly identified, so we can say we have labeled input and output data; therefore, we’re dealing with supervised learning.\n",
    "\n",
    "We will benchmark the four classification models.\n"
   ]
  },
  {
   "cell_type": "markdown",
   "id": "438e32b4",
   "metadata": {
    "papermill": {
     "duration": 0.032352,
     "end_time": "2022-03-15T05:15:20.939562",
     "exception": false,
     "start_time": "2022-03-15T05:15:20.907210",
     "status": "completed"
    },
    "tags": []
   },
   "source": [
    "\n",
    "##  Support Vector Machine(SVM)\n"
   ]
  },
  {
   "cell_type": "code",
   "execution_count": 15,
   "id": "cce03061-9f91-4cbf-9224-2b7305da60eb",
   "metadata": {},
   "outputs": [],
   "source": [
    "from sklearn.svm import SVC\n",
    "from sklearn.metrics import classification_report\n",
    "class svc_model:\n",
    "    def __init__(self,train_x_vector,train_y,test_x_vector,test_y):\n",
    "        self.train_x_vector=train_x_vector\n",
    "        self.train_y=train_y\n",
    "        self.test_x_vector=test_x_vector\n",
    "        self.test_y=test_y\n",
    "        \n",
    "    def model():\n",
    "        classifier_svm=SVC(kernel='linear',probability=True)\n",
    "        classifier_svm.fit(train_x_vector,train_y)\n",
    "        tweet=input()\n",
    "        print(\"probability for the input to be positive or negative\")\n",
    "        prediction_prob=classifier_svm.predict_proba(tfidf.transform([str(tweet)]))\n",
    "        print(prediction_prob)\n",
    "        print(\"prediction of the model\")\n",
    "        prediction=classifier_svm.predict(tfidf.transform([str(tweet)]))\n",
    "        print(prediction)\n",
    "        print(\"classification report\")\n",
    "        print(classification_report(test_y,\n",
    "                            classifier_svm.predict(test_x_vector),\n",
    "                            labels = ['positive','negative']))\n",
    "        print(\"accuracy_of_model\")\n",
    "        print(classifier_svm.score(test_x_vector,test_y))"
   ]
  },
  {
   "cell_type": "code",
   "execution_count": 16,
   "id": "ce183784-bfac-44ac-96d2-31c7d3a59c61",
   "metadata": {},
   "outputs": [
    {
     "name": "stdin",
     "output_type": "stream",
     "text": [
      " good\n"
     ]
    },
    {
     "name": "stdout",
     "output_type": "stream",
     "text": [
      "probability for the input to be positive or negative\n",
      "[[0.02545117 0.97454883]]\n",
      "prediction of the model\n",
      "['positive']\n",
      "classification report\n",
      "              precision    recall  f1-score   support\n",
      "\n",
      "    positive       0.96      0.88      0.92       335\n",
      "    negative       0.89      0.97      0.93       325\n",
      "\n",
      "    accuracy                           0.92       660\n",
      "   macro avg       0.93      0.92      0.92       660\n",
      "weighted avg       0.93      0.92      0.92       660\n",
      "\n",
      "accuracy_of_model\n",
      "0.9242424242424242\n"
     ]
    }
   ],
   "source": [
    "model1=svc_model.model()"
   ]
  },
  {
   "cell_type": "markdown",
   "id": "ebcf93fc",
   "metadata": {
    "papermill": {
     "duration": 0.032846,
     "end_time": "2022-03-15T05:15:22.874553",
     "exception": false,
     "start_time": "2022-03-15T05:15:22.841707",
     "status": "completed"
    },
    "tags": []
   },
   "source": [
    "\n",
    "## Decision Tree\n"
   ]
  },
  {
   "cell_type": "code",
   "execution_count": 17,
   "id": "76a5c27a-6fcf-4499-9c16-e2f3795a8b57",
   "metadata": {},
   "outputs": [],
   "source": [
    "from sklearn.tree import DecisionTreeClassifier\n",
    "\n",
    "class dec_tree_model:\n",
    "    def __init__(self,train_x_vector,train_y,test_x_vector,test_y):\n",
    "        self.train_x_vector=train_x_vector\n",
    "        self.train_y=train_y\n",
    "        self.test_x_vector=test_x_vector\n",
    "        self.test_y=test_y\n",
    "    def model():\n",
    "        dec_tree = DecisionTreeClassifier()\n",
    "        dec_tree.fit(train_x_vector,train_y)\n",
    "        tweet=input()\n",
    "        print(\"probability for the input to be positive or negative\")\n",
    "        prediction_prob=dec_tree.predict_proba(tfidf.transform([str(tweet)]))\n",
    "        print(prediction_prob)\n",
    "        print(\"prediction of the model\")\n",
    "        prediction=dec_tree.predict(tfidf.transform([str(tweet)]))\n",
    "        print(prediction)\n",
    "        print(\"classification report\")\n",
    "        print(classification_report(test_y,\n",
    "                            dec_tree.predict(test_x_vector),\n",
    "                            labels = ['positive','negative']))\n",
    "        print(\"accuracy_of_model\")\n",
    "        print(dec_tree.score(test_x_vector,test_y))"
   ]
  },
  {
   "cell_type": "code",
   "execution_count": 19,
   "id": "e08a8db2-8b95-4039-b6d6-4e3546a56327",
   "metadata": {},
   "outputs": [
    {
     "name": "stdin",
     "output_type": "stream",
     "text": [
      " bad flight\n"
     ]
    },
    {
     "name": "stdout",
     "output_type": "stream",
     "text": [
      "probability for the input to be positive or negative\n",
      "[[0. 1.]]\n",
      "prediction of the model\n",
      "['positive']\n",
      "classification report\n",
      "              precision    recall  f1-score   support\n",
      "\n",
      "    positive       0.90      0.90      0.90       335\n",
      "    negative       0.90      0.90      0.90       325\n",
      "\n",
      "    accuracy                           0.90       660\n",
      "   macro avg       0.90      0.90      0.90       660\n",
      "weighted avg       0.90      0.90      0.90       660\n",
      "\n",
      "accuracy_of_model\n",
      "0.9015151515151515\n"
     ]
    }
   ],
   "source": [
    "model2=dec_tree_model.model()\n",
    "#classification_report=dec_tree_model.classification_report()\n",
    "#accuracy=model.accuracy_report()"
   ]
  },
  {
   "cell_type": "markdown",
   "id": "89594f17",
   "metadata": {
    "papermill": {
     "duration": 0.033336,
     "end_time": "2022-03-15T05:15:24.246622",
     "exception": false,
     "start_time": "2022-03-15T05:15:24.213286",
     "status": "completed"
    },
    "tags": []
   },
   "source": [
    "\n",
    "## Logistic Regression\n"
   ]
  },
  {
   "cell_type": "code",
   "execution_count": 33,
   "id": "ff6b8d24",
   "metadata": {
    "papermill": {
     "duration": 0.22347,
     "end_time": "2022-03-15T05:15:24.503749",
     "exception": false,
     "start_time": "2022-03-15T05:15:24.280279",
     "status": "completed"
    },
    "tags": []
   },
   "outputs": [],
   "source": [
    "from sklearn.linear_model import LogisticRegression\n",
    "\n",
    "\n",
    "class log_reg_model:\n",
    "    def __init__(self,train_x_vector,train_y,test_x_vector,test_y):\n",
    "        self.train_x_vector=train_x_vector\n",
    "        self.train_y=train_y\n",
    "        self.test_x_vector=test_x_vector\n",
    "        self.test_y=test_y\n",
    "    def model():\n",
    "        log_reg = LogisticRegression()\n",
    "        log_reg.fit(train_x_vector,train_y)\n",
    "        tweet=input()\n",
    "        print(\"probability for the input to be positive or negative\")\n",
    "        prediction_prob=log_reg.predict_proba(tfidf.transform([str(tweet)]))\n",
    "        print(prediction_prob)\n",
    "        print(\"prediction of the model\")\n",
    "        prediction=log_reg.predict(tfidf.transform([str(tweet)]))\n",
    "        print(prediction)\n",
    "        print(\"classification report\")\n",
    "        print(classification_report(test_y,\n",
    "                            log_reg.predict(test_x_vector),\n",
    "                            labels = ['positive','negative']))\n",
    "        print(\"accuracy_of_model\")\n",
    "        print(log_reg.score(test_x_vector,test_y))"
   ]
  },
  {
   "cell_type": "code",
   "execution_count": 34,
   "id": "db7d1291-2da6-47bf-bef1-46d6dbcd6ea4",
   "metadata": {},
   "outputs": [
    {
     "name": "stdin",
     "output_type": "stream",
     "text": [
      " good flight\n"
     ]
    },
    {
     "name": "stdout",
     "output_type": "stream",
     "text": [
      "probability for the input to be positive or negative\n",
      "[[0.42551919 0.57448081]]\n",
      "prediction of the model\n",
      "['positive']\n",
      "classification report\n",
      "              precision    recall  f1-score   support\n",
      "\n",
      "    positive       0.98      0.86      0.91       335\n",
      "    negative       0.87      0.98      0.92       325\n",
      "\n",
      "    accuracy                           0.92       660\n",
      "   macro avg       0.92      0.92      0.92       660\n",
      "weighted avg       0.92      0.92      0.92       660\n",
      "\n",
      "accuracy_of_model\n",
      "0.9166666666666666\n"
     ]
    }
   ],
   "source": [
    "model2=log_reg_model.model()\n",
    "#classification_report=dec_tree_model.classification_report()\n",
    "#accuracy=model.accuracy_report()"
   ]
  },
  {
   "cell_type": "markdown",
   "id": "a53a31df",
   "metadata": {
    "papermill": {
     "duration": 0.034365,
     "end_time": "2022-03-15T05:15:24.646936",
     "exception": false,
     "start_time": "2022-03-15T05:15:24.612571",
     "status": "completed"
    },
    "tags": []
   },
   "source": [
    ">Note: Here notice that we are using review dataframe in vectorized form and sentiment dataframe in normal form it is so that model evaluates the vectorized values of review dataframe and gives out output in normal english not in a vectorized form so that it can be readable to us"
   ]
  },
  {
   "cell_type": "markdown",
   "id": "3ef87952-f0f5-4698-9cf6-f11b9c77452d",
   "metadata": {},
   "source": [
    "## LGBM"
   ]
  },
  {
   "cell_type": "code",
   "execution_count": 35,
   "id": "59153daf-f004-4825-9792-b00a0f745d75",
   "metadata": {},
   "outputs": [],
   "source": [
    "from sklearn.linear_model import LogisticRegression\n",
    "import lightgbm as lgb\n",
    "\n",
    "class lgbm_model:\n",
    "    def __init__(self,train_x_vector,train_y,test_x_vector,test_y):\n",
    "        self.train_x_vector=train_x_vector\n",
    "        self.train_y=train_y\n",
    "        self.test_x_vector=test_x_vector\n",
    "        self.test_y=test_y\n",
    "    def model():\n",
    "        rs_cv=lgb.LGBMClassifier()\n",
    "        rs_cv.fit(train_x_vector,train_y)\n",
    "        tweet=input()\n",
    "        print(\"probability for the input to be positive or negative\")\n",
    "        prediction_prob=rs_cv.predict_proba(tfidf.transform([str(tweet)]))\n",
    "        print(prediction_prob)\n",
    "        print(\"prediction of the model\")\n",
    "        prediction=rs_cv.predict(tfidf.transform([str(tweet)]))\n",
    "        print(prediction)\n",
    "        print(\"classification report\")\n",
    "        print(classification_report(test_y,\n",
    "                            rs_cv.predict(test_x_vector),\n",
    "                            labels = ['positive','negative']))\n",
    "        print(\"accuracy_of_model\")\n",
    "        print(rs_cv.score(test_x_vector,test_y))\n"
   ]
  },
  {
   "cell_type": "code",
   "execution_count": 36,
   "id": "3e1d7538-8f21-4f56-9bd0-037e15628d3a",
   "metadata": {},
   "outputs": [
    {
     "name": "stdin",
     "output_type": "stream",
     "text": [
      " good flight and bad staff\n"
     ]
    },
    {
     "name": "stdout",
     "output_type": "stream",
     "text": [
      "probability for the input to be positive or negative\n",
      "[[3.96132166e-04 9.99603868e-01]]\n",
      "prediction of the model\n",
      "['positive']\n",
      "classification report\n",
      "              precision    recall  f1-score   support\n",
      "\n",
      "    positive       0.95      0.90      0.92       335\n",
      "    negative       0.90      0.95      0.92       325\n",
      "\n",
      "    accuracy                           0.92       660\n",
      "   macro avg       0.92      0.92      0.92       660\n",
      "weighted avg       0.92      0.92      0.92       660\n",
      "\n",
      "accuracy_of_model\n",
      "0.9227272727272727\n"
     ]
    }
   ],
   "source": [
    "model2=lgbm_model.model()\n",
    "#classification_report=dec_tree_model.classification_report()\n",
    "#accuracy=model.accuracy_report()"
   ]
  },
  {
   "cell_type": "markdown",
   "id": "a5e5e538-c528-4d20-8909-9559df3a69bd",
   "metadata": {},
   "source": [
    "## XGBoost"
   ]
  },
  {
   "cell_type": "code",
   "execution_count": 40,
   "id": "75240bbd-3ed9-4a85-9767-8c45432a066c",
   "metadata": {},
   "outputs": [],
   "source": [
    "from xgboost import XGBClassifier\n",
    "from sklearn.preprocessing import LabelEncoder\n",
    "le = LabelEncoder()\n",
    "\n",
    "class xg_model:\n",
    "    def __init__(self,train_x_vector,train_y,test_x_vector,test_y):\n",
    "        self.train_x_vector=train_x_vector\n",
    "        self.train_y=train_y\n",
    "        self.test_x_vector=test_x_vector\n",
    "        self.test_y=test_y\n",
    "    def model():\n",
    "        xgb = XGBClassifier()\n",
    "        y_train = le.fit_transform(train_y)\n",
    "        xgb.fit(train_x_vector,y_train)\n",
    "        tweet=input()\n",
    "        print(\"probability for the input to be positive or negative\")\n",
    "        prediction_prob=xgb.predict_proba(tfidf.transform([str(tweet)]))\n",
    "        print(prediction_prob)\n",
    "        print(\"prediction of the model\")\n",
    "        prediction=xgb.predict(tfidf.transform([str(tweet)]))\n",
    "        print(prediction)\n",
    "        print(\"classification report\")\n",
    "        y_test = le.fit_transform(test_y)\n",
    "        print(classification_report(y_test,\n",
    "                            xgb.predict(test_x_vector)))\n",
    "        print(\"accuracy_of_model\")\n",
    "        print(xgb.score(test_x_vector,y_test))"
   ]
  },
  {
   "cell_type": "code",
   "execution_count": 41,
   "id": "4db534f4-52be-4927-be5a-d91c6d369a89",
   "metadata": {},
   "outputs": [
    {
     "name": "stdin",
     "output_type": "stream",
     "text": [
      " good plane \n"
     ]
    },
    {
     "name": "stdout",
     "output_type": "stream",
     "text": [
      "probability for the input to be positive or negative\n",
      "[[2.2619963e-04 9.9977380e-01]]\n",
      "prediction of the model\n",
      "[1]\n",
      "classification report\n",
      "              precision    recall  f1-score   support\n",
      "\n",
      "           0       0.91      0.92      0.91       325\n",
      "           1       0.92      0.91      0.91       335\n",
      "\n",
      "    accuracy                           0.91       660\n",
      "   macro avg       0.91      0.91      0.91       660\n",
      "weighted avg       0.91      0.91      0.91       660\n",
      "\n",
      "accuracy_of_model\n",
      "0.9136363636363637\n"
     ]
    }
   ],
   "source": [
    "model2=xg_model.model()\n",
    "#classification_report=dec_tree_model.classification_report()\n",
    "#accuracy=model.accuracy_report()"
   ]
  },
  {
   "cell_type": "markdown",
   "id": "8beff619",
   "metadata": {
    "papermill": {
     "duration": 0.033526,
     "end_time": "2022-03-15T05:15:24.782239",
     "exception": false,
     "start_time": "2022-03-15T05:15:24.748713",
     "status": "completed"
    },
    "tags": []
   },
   "source": [
    "## Mean Accuracy"
   ]
  },
  {
   "cell_type": "markdown",
   "id": "d10d530d",
   "metadata": {
    "papermill": {
     "duration": 0.035591,
     "end_time": "2022-03-15T05:15:25.983542",
     "exception": false,
     "start_time": "2022-03-15T05:15:25.947951",
     "status": "completed"
    },
    "tags": []
   },
   "source": [
    "SVM and XGBoost perform better than the other classifiers, with SVM having a slight advantage (92% of accuracy).we'll know make the paramter tuning and bring the best out of the models and evaluate them."
   ]
  },
  {
   "cell_type": "markdown",
   "id": "da729628",
   "metadata": {
    "papermill": {
     "duration": 0.035618,
     "end_time": "2022-03-15T05:15:26.054248",
     "exception": false,
     "start_time": "2022-03-15T05:15:26.018630",
     "status": "completed"
    },
    "tags": []
   },
   "source": [
    "## F1 Score\n",
    "\n",
    "F1 Score is the weighted average of Precision and Recall. Accuracy is used when the True Positives and True negatives are more important while F1-score is used when the False Negatives and False Positives are crucial. Also, F1 takes into account how the data is distributed, so it’s useful when you have data with imbalance classes."
   ]
  },
  {
   "cell_type": "markdown",
   "id": "23dc2714",
   "metadata": {
    "papermill": {
     "duration": 0.035267,
     "end_time": "2022-03-15T05:15:28.768202",
     "exception": false,
     "start_time": "2022-03-15T05:15:28.732935",
     "status": "completed"
    },
    "tags": []
   },
   "source": [
    "\n",
    "# 6. Tuning the Model\n"
   ]
  },
  {
   "cell_type": "markdown",
   "id": "63a79cfb",
   "metadata": {
    "papermill": {
     "duration": 0.036149,
     "end_time": "2022-03-15T05:15:28.840853",
     "exception": false,
     "start_time": "2022-03-15T05:15:28.804704",
     "status": "completed"
    },
    "tags": []
   },
   "source": [
    "## Randomsearchcv\n",
    "\n",
    "This is technique consists of an exhaustive search on specified parameters in order to obtain the optimum values of hyperparameters."
   ]
  },
  {
   "cell_type": "code",
   "execution_count": 43,
   "id": "8be5a4ef",
   "metadata": {
    "papermill": {
     "duration": 71.883067,
     "end_time": "2022-03-15T05:16:40.761347",
     "exception": false,
     "start_time": "2022-03-15T05:15:28.878280",
     "status": "completed"
    },
    "tags": []
   },
   "outputs": [
    {
     "data": {
      "text/html": [
       "<style>#sk-container-id-2 {color: black;background-color: white;}#sk-container-id-2 pre{padding: 0;}#sk-container-id-2 div.sk-toggleable {background-color: white;}#sk-container-id-2 label.sk-toggleable__label {cursor: pointer;display: block;width: 100%;margin-bottom: 0;padding: 0.3em;box-sizing: border-box;text-align: center;}#sk-container-id-2 label.sk-toggleable__label-arrow:before {content: \"▸\";float: left;margin-right: 0.25em;color: #696969;}#sk-container-id-2 label.sk-toggleable__label-arrow:hover:before {color: black;}#sk-container-id-2 div.sk-estimator:hover label.sk-toggleable__label-arrow:before {color: black;}#sk-container-id-2 div.sk-toggleable__content {max-height: 0;max-width: 0;overflow: hidden;text-align: left;background-color: #f0f8ff;}#sk-container-id-2 div.sk-toggleable__content pre {margin: 0.2em;color: black;border-radius: 0.25em;background-color: #f0f8ff;}#sk-container-id-2 input.sk-toggleable__control:checked~div.sk-toggleable__content {max-height: 200px;max-width: 100%;overflow: auto;}#sk-container-id-2 input.sk-toggleable__control:checked~label.sk-toggleable__label-arrow:before {content: \"▾\";}#sk-container-id-2 div.sk-estimator input.sk-toggleable__control:checked~label.sk-toggleable__label {background-color: #d4ebff;}#sk-container-id-2 div.sk-label input.sk-toggleable__control:checked~label.sk-toggleable__label {background-color: #d4ebff;}#sk-container-id-2 input.sk-hidden--visually {border: 0;clip: rect(1px 1px 1px 1px);clip: rect(1px, 1px, 1px, 1px);height: 1px;margin: -1px;overflow: hidden;padding: 0;position: absolute;width: 1px;}#sk-container-id-2 div.sk-estimator {font-family: monospace;background-color: #f0f8ff;border: 1px dotted black;border-radius: 0.25em;box-sizing: border-box;margin-bottom: 0.5em;}#sk-container-id-2 div.sk-estimator:hover {background-color: #d4ebff;}#sk-container-id-2 div.sk-parallel-item::after {content: \"\";width: 100%;border-bottom: 1px solid gray;flex-grow: 1;}#sk-container-id-2 div.sk-label:hover label.sk-toggleable__label {background-color: #d4ebff;}#sk-container-id-2 div.sk-serial::before {content: \"\";position: absolute;border-left: 1px solid gray;box-sizing: border-box;top: 0;bottom: 0;left: 50%;z-index: 0;}#sk-container-id-2 div.sk-serial {display: flex;flex-direction: column;align-items: center;background-color: white;padding-right: 0.2em;padding-left: 0.2em;position: relative;}#sk-container-id-2 div.sk-item {position: relative;z-index: 1;}#sk-container-id-2 div.sk-parallel {display: flex;align-items: stretch;justify-content: center;background-color: white;position: relative;}#sk-container-id-2 div.sk-item::before, #sk-container-id-2 div.sk-parallel-item::before {content: \"\";position: absolute;border-left: 1px solid gray;box-sizing: border-box;top: 0;bottom: 0;left: 50%;z-index: -1;}#sk-container-id-2 div.sk-parallel-item {display: flex;flex-direction: column;z-index: 1;position: relative;background-color: white;}#sk-container-id-2 div.sk-parallel-item:first-child::after {align-self: flex-end;width: 50%;}#sk-container-id-2 div.sk-parallel-item:last-child::after {align-self: flex-start;width: 50%;}#sk-container-id-2 div.sk-parallel-item:only-child::after {width: 0;}#sk-container-id-2 div.sk-dashed-wrapped {border: 1px dashed gray;margin: 0 0.4em 0.5em 0.4em;box-sizing: border-box;padding-bottom: 0.4em;background-color: white;}#sk-container-id-2 div.sk-label label {font-family: monospace;font-weight: bold;display: inline-block;line-height: 1.2em;}#sk-container-id-2 div.sk-label-container {text-align: center;}#sk-container-id-2 div.sk-container {/* jupyter's `normalize.less` sets `[hidden] { display: none; }` but bootstrap.min.css set `[hidden] { display: none !important; }` so we also need the `!important` here to be able to override the default hidden behavior on the sphinx rendered scikit-learn.org. See: https://github.com/scikit-learn/scikit-learn/issues/21755 */display: inline-block !important;position: relative;}#sk-container-id-2 div.sk-text-repr-fallback {display: none;}</style><div id=\"sk-container-id-2\" class=\"sk-top-container\"><div class=\"sk-text-repr-fallback\"><pre>RandomizedSearchCV(cv=3, estimator=SVC(kernel=&#x27;linear&#x27;), n_iter=20, n_jobs=4,\n",
       "                   param_distributions={&#x27;C&#x27;: &lt;scipy.stats._distn_infrastructure.rv_frozen object at 0x000001A554D60580&gt;,\n",
       "                                        &#x27;gamma&#x27;: &lt;scipy.stats._distn_infrastructure.rv_frozen object at 0x000001A554D63430&gt;},\n",
       "                   random_state=2017)</pre><b>In a Jupyter environment, please rerun this cell to show the HTML representation or trust the notebook. <br />On GitHub, the HTML representation is unable to render, please try loading this page with nbviewer.org.</b></div><div class=\"sk-container\" hidden><div class=\"sk-item sk-dashed-wrapped\"><div class=\"sk-label-container\"><div class=\"sk-label sk-toggleable\"><input class=\"sk-toggleable__control sk-hidden--visually\" id=\"sk-estimator-id-2\" type=\"checkbox\" ><label for=\"sk-estimator-id-2\" class=\"sk-toggleable__label sk-toggleable__label-arrow\">RandomizedSearchCV</label><div class=\"sk-toggleable__content\"><pre>RandomizedSearchCV(cv=3, estimator=SVC(kernel=&#x27;linear&#x27;), n_iter=20, n_jobs=4,\n",
       "                   param_distributions={&#x27;C&#x27;: &lt;scipy.stats._distn_infrastructure.rv_frozen object at 0x000001A554D60580&gt;,\n",
       "                                        &#x27;gamma&#x27;: &lt;scipy.stats._distn_infrastructure.rv_frozen object at 0x000001A554D63430&gt;},\n",
       "                   random_state=2017)</pre></div></div></div><div class=\"sk-parallel\"><div class=\"sk-parallel-item\"><div class=\"sk-item\"><div class=\"sk-label-container\"><div class=\"sk-label sk-toggleable\"><input class=\"sk-toggleable__control sk-hidden--visually\" id=\"sk-estimator-id-3\" type=\"checkbox\" ><label for=\"sk-estimator-id-3\" class=\"sk-toggleable__label sk-toggleable__label-arrow\">estimator: SVC</label><div class=\"sk-toggleable__content\"><pre>SVC(kernel=&#x27;linear&#x27;)</pre></div></div></div><div class=\"sk-serial\"><div class=\"sk-item\"><div class=\"sk-estimator sk-toggleable\"><input class=\"sk-toggleable__control sk-hidden--visually\" id=\"sk-estimator-id-4\" type=\"checkbox\" ><label for=\"sk-estimator-id-4\" class=\"sk-toggleable__label sk-toggleable__label-arrow\">SVC</label><div class=\"sk-toggleable__content\"><pre>SVC(kernel=&#x27;linear&#x27;)</pre></div></div></div></div></div></div></div></div></div></div>"
      ],
      "text/plain": [
       "RandomizedSearchCV(cv=3, estimator=SVC(kernel='linear'), n_iter=20, n_jobs=4,\n",
       "                   param_distributions={'C': <scipy.stats._distn_infrastructure.rv_frozen object at 0x000001A554D60580>,\n",
       "                                        'gamma': <scipy.stats._distn_infrastructure.rv_frozen object at 0x000001A554D63430>},\n",
       "                   random_state=2017)"
      ]
     },
     "execution_count": 43,
     "metadata": {},
     "output_type": "execute_result"
    }
   ],
   "source": [
    "# RANDOM SEARCH FOR 20 COMBINATIONS OF PARAMETERS\n",
    "from sklearn.model_selection import  RandomizedSearchCV \n",
    "from sklearn.svm import SVC\n",
    "svc = SVC(kernel='linear')\n",
    "from scipy import stats\n",
    "\n",
    "rand_list = {\"C\": stats.uniform(2, 10),\n",
    "             \"gamma\": stats.uniform(0.1, 1)}\n",
    "              \n",
    "rand_search = RandomizedSearchCV(svc, param_distributions = rand_list, n_iter = 20, n_jobs = 4, cv = 3, random_state = 2017) \n",
    "rand_search.fit(train_x_vector, train_y) \n"
   ]
  },
  {
   "cell_type": "code",
   "execution_count": 44,
   "id": "6999e1ff",
   "metadata": {
    "papermill": {
     "duration": 0.04473,
     "end_time": "2022-03-15T05:16:40.842043",
     "exception": false,
     "start_time": "2022-03-15T05:16:40.797313",
     "status": "completed"
    },
    "tags": []
   },
   "outputs": [
    {
     "name": "stdout",
     "output_type": "stream",
     "text": [
      "{'C': 2.209602254061174, 'gamma': 0.8670701646824878}\n",
      "SVC(C=2.209602254061174, gamma=0.8670701646824878, kernel='linear')\n"
     ]
    }
   ],
   "source": [
    "print(rand_search.best_params_)\n",
    "print(rand_search.best_estimator_)"
   ]
  },
  {
   "cell_type": "code",
   "execution_count": 47,
   "id": "1234885b-1799-4c19-93cf-75453169f68a",
   "metadata": {},
   "outputs": [],
   "source": [
    "from sklearn.svm import SVC\n",
    "from sklearn.metrics import classification_report\n",
    "class updated_svc_model:\n",
    "    def __init__(self,train_x_vector,train_y,test_x_vector,test_y):\n",
    "        self.train_x_vector=train_x_vector\n",
    "        self.train_y=train_y\n",
    "        self.test_x_vector=test_x_vector\n",
    "        self.test_y=test_y\n",
    "        \n",
    "    def model():\n",
    "        classifier_svm=SVC(kernel='linear',probability=True,C=2.209602254061174, gamma=0.8670701646824878)\n",
    "        classifier_svm.fit(train_x_vector,train_y)\n",
    "        tweet=input()\n",
    "        print(\"probability for the input to be positive or negative\")\n",
    "        prediction_prob=classifier_svm.predict_proba(tfidf.transform([str(tweet)]))\n",
    "        print(prediction_prob)\n",
    "        print(\"prediction of the model\")\n",
    "        prediction=classifier_svm.predict(tfidf.transform([str(tweet)]))\n",
    "        print(prediction)\n",
    "        print(\"classification report\")\n",
    "        print(classification_report(test_y,\n",
    "                            classifier_svm.predict(test_x_vector),\n",
    "                            labels = ['positive','negative']))\n",
    "        print(\"accuracy_of_model\")\n",
    "        print(classifier_svm.score(test_x_vector,test_y))"
   ]
  },
  {
   "cell_type": "code",
   "execution_count": 48,
   "id": "650975ed-ab48-4695-bc5f-f9d99bfb7b22",
   "metadata": {},
   "outputs": [
    {
     "name": "stdin",
     "output_type": "stream",
     "text": [
      " good flight but bad service\n"
     ]
    },
    {
     "name": "stdout",
     "output_type": "stream",
     "text": [
      "probability for the input to be positive or negative\n",
      "[[0.45325808 0.54674192]]\n",
      "prediction of the model\n",
      "['negative']\n",
      "classification report\n",
      "              precision    recall  f1-score   support\n",
      "\n",
      "    positive       0.94      0.90      0.92       335\n",
      "    negative       0.90      0.94      0.92       325\n",
      "\n",
      "    accuracy                           0.92       660\n",
      "   macro avg       0.92      0.92      0.92       660\n",
      "weighted avg       0.92      0.92      0.92       660\n",
      "\n",
      "accuracy_of_model\n",
      "0.9212121212121213\n"
     ]
    }
   ],
   "source": [
    "model2=updated_svc_model.model()\n",
    "#classification_report=dec_tree_model.classification_report()\n",
    "#accuracy=model.accuracy_report()"
   ]
  },
  {
   "cell_type": "code",
   "execution_count": 53,
   "id": "68c6f551-6baf-4add-9da9-fb41a4c55872",
   "metadata": {},
   "outputs": [
    {
     "data": {
      "text/html": [
       "<style>#sk-container-id-12 {color: black;background-color: white;}#sk-container-id-12 pre{padding: 0;}#sk-container-id-12 div.sk-toggleable {background-color: white;}#sk-container-id-12 label.sk-toggleable__label {cursor: pointer;display: block;width: 100%;margin-bottom: 0;padding: 0.3em;box-sizing: border-box;text-align: center;}#sk-container-id-12 label.sk-toggleable__label-arrow:before {content: \"▸\";float: left;margin-right: 0.25em;color: #696969;}#sk-container-id-12 label.sk-toggleable__label-arrow:hover:before {color: black;}#sk-container-id-12 div.sk-estimator:hover label.sk-toggleable__label-arrow:before {color: black;}#sk-container-id-12 div.sk-toggleable__content {max-height: 0;max-width: 0;overflow: hidden;text-align: left;background-color: #f0f8ff;}#sk-container-id-12 div.sk-toggleable__content pre {margin: 0.2em;color: black;border-radius: 0.25em;background-color: #f0f8ff;}#sk-container-id-12 input.sk-toggleable__control:checked~div.sk-toggleable__content {max-height: 200px;max-width: 100%;overflow: auto;}#sk-container-id-12 input.sk-toggleable__control:checked~label.sk-toggleable__label-arrow:before {content: \"▾\";}#sk-container-id-12 div.sk-estimator input.sk-toggleable__control:checked~label.sk-toggleable__label {background-color: #d4ebff;}#sk-container-id-12 div.sk-label input.sk-toggleable__control:checked~label.sk-toggleable__label {background-color: #d4ebff;}#sk-container-id-12 input.sk-hidden--visually {border: 0;clip: rect(1px 1px 1px 1px);clip: rect(1px, 1px, 1px, 1px);height: 1px;margin: -1px;overflow: hidden;padding: 0;position: absolute;width: 1px;}#sk-container-id-12 div.sk-estimator {font-family: monospace;background-color: #f0f8ff;border: 1px dotted black;border-radius: 0.25em;box-sizing: border-box;margin-bottom: 0.5em;}#sk-container-id-12 div.sk-estimator:hover {background-color: #d4ebff;}#sk-container-id-12 div.sk-parallel-item::after {content: \"\";width: 100%;border-bottom: 1px solid gray;flex-grow: 1;}#sk-container-id-12 div.sk-label:hover label.sk-toggleable__label {background-color: #d4ebff;}#sk-container-id-12 div.sk-serial::before {content: \"\";position: absolute;border-left: 1px solid gray;box-sizing: border-box;top: 0;bottom: 0;left: 50%;z-index: 0;}#sk-container-id-12 div.sk-serial {display: flex;flex-direction: column;align-items: center;background-color: white;padding-right: 0.2em;padding-left: 0.2em;position: relative;}#sk-container-id-12 div.sk-item {position: relative;z-index: 1;}#sk-container-id-12 div.sk-parallel {display: flex;align-items: stretch;justify-content: center;background-color: white;position: relative;}#sk-container-id-12 div.sk-item::before, #sk-container-id-12 div.sk-parallel-item::before {content: \"\";position: absolute;border-left: 1px solid gray;box-sizing: border-box;top: 0;bottom: 0;left: 50%;z-index: -1;}#sk-container-id-12 div.sk-parallel-item {display: flex;flex-direction: column;z-index: 1;position: relative;background-color: white;}#sk-container-id-12 div.sk-parallel-item:first-child::after {align-self: flex-end;width: 50%;}#sk-container-id-12 div.sk-parallel-item:last-child::after {align-self: flex-start;width: 50%;}#sk-container-id-12 div.sk-parallel-item:only-child::after {width: 0;}#sk-container-id-12 div.sk-dashed-wrapped {border: 1px dashed gray;margin: 0 0.4em 0.5em 0.4em;box-sizing: border-box;padding-bottom: 0.4em;background-color: white;}#sk-container-id-12 div.sk-label label {font-family: monospace;font-weight: bold;display: inline-block;line-height: 1.2em;}#sk-container-id-12 div.sk-label-container {text-align: center;}#sk-container-id-12 div.sk-container {/* jupyter's `normalize.less` sets `[hidden] { display: none; }` but bootstrap.min.css set `[hidden] { display: none !important; }` so we also need the `!important` here to be able to override the default hidden behavior on the sphinx rendered scikit-learn.org. See: https://github.com/scikit-learn/scikit-learn/issues/21755 */display: inline-block !important;position: relative;}#sk-container-id-12 div.sk-text-repr-fallback {display: none;}</style><div id=\"sk-container-id-12\" class=\"sk-top-container\"><div class=\"sk-text-repr-fallback\"><pre>RandomizedSearchCV(cv=3, estimator=DecisionTreeClassifier(), n_iter=20,\n",
       "                   n_jobs=4,\n",
       "                   param_distributions={&#x27;criterion&#x27;: [&#x27;gini&#x27;, &#x27;entropy&#x27;],\n",
       "                                        &#x27;max_depth&#x27;: array([ 3,  4,  5,  6,  7,  8,  9, 10, 11, 12, 13, 14])},\n",
       "                   random_state=2017)</pre><b>In a Jupyter environment, please rerun this cell to show the HTML representation or trust the notebook. <br />On GitHub, the HTML representation is unable to render, please try loading this page with nbviewer.org.</b></div><div class=\"sk-container\" hidden><div class=\"sk-item sk-dashed-wrapped\"><div class=\"sk-label-container\"><div class=\"sk-label sk-toggleable\"><input class=\"sk-toggleable__control sk-hidden--visually\" id=\"sk-estimator-id-16\" type=\"checkbox\" ><label for=\"sk-estimator-id-16\" class=\"sk-toggleable__label sk-toggleable__label-arrow\">RandomizedSearchCV</label><div class=\"sk-toggleable__content\"><pre>RandomizedSearchCV(cv=3, estimator=DecisionTreeClassifier(), n_iter=20,\n",
       "                   n_jobs=4,\n",
       "                   param_distributions={&#x27;criterion&#x27;: [&#x27;gini&#x27;, &#x27;entropy&#x27;],\n",
       "                                        &#x27;max_depth&#x27;: array([ 3,  4,  5,  6,  7,  8,  9, 10, 11, 12, 13, 14])},\n",
       "                   random_state=2017)</pre></div></div></div><div class=\"sk-parallel\"><div class=\"sk-parallel-item\"><div class=\"sk-item\"><div class=\"sk-label-container\"><div class=\"sk-label sk-toggleable\"><input class=\"sk-toggleable__control sk-hidden--visually\" id=\"sk-estimator-id-17\" type=\"checkbox\" ><label for=\"sk-estimator-id-17\" class=\"sk-toggleable__label sk-toggleable__label-arrow\">estimator: DecisionTreeClassifier</label><div class=\"sk-toggleable__content\"><pre>DecisionTreeClassifier()</pre></div></div></div><div class=\"sk-serial\"><div class=\"sk-item\"><div class=\"sk-estimator sk-toggleable\"><input class=\"sk-toggleable__control sk-hidden--visually\" id=\"sk-estimator-id-18\" type=\"checkbox\" ><label for=\"sk-estimator-id-18\" class=\"sk-toggleable__label sk-toggleable__label-arrow\">DecisionTreeClassifier</label><div class=\"sk-toggleable__content\"><pre>DecisionTreeClassifier()</pre></div></div></div></div></div></div></div></div></div></div>"
      ],
      "text/plain": [
       "RandomizedSearchCV(cv=3, estimator=DecisionTreeClassifier(), n_iter=20,\n",
       "                   n_jobs=4,\n",
       "                   param_distributions={'criterion': ['gini', 'entropy'],\n",
       "                                        'max_depth': array([ 3,  4,  5,  6,  7,  8,  9, 10, 11, 12, 13, 14])},\n",
       "                   random_state=2017)"
      ]
     },
     "execution_count": 53,
     "metadata": {},
     "output_type": "execute_result"
    }
   ],
   "source": [
    "from sklearn.tree import DecisionTreeClassifier\n",
    "dec_tree = DecisionTreeClassifier()\n",
    "param_grid = { 'criterion':['gini','entropy'],'max_depth': np.arange(3, 15)}\n",
    "rand_search = RandomizedSearchCV(dec_tree, param_distributions = param_grid, n_iter = 20, n_jobs = 4, cv = 3, random_state = 2017) \n",
    "rand_search.fit(train_x_vector, train_y) "
   ]
  },
  {
   "cell_type": "code",
   "execution_count": 54,
   "id": "95815c68-bfe5-4b79-8947-423ebf5bf7a4",
   "metadata": {},
   "outputs": [
    {
     "name": "stdout",
     "output_type": "stream",
     "text": [
      "{'max_depth': 4, 'criterion': 'gini'}\n",
      "DecisionTreeClassifier(max_depth=4)\n"
     ]
    }
   ],
   "source": [
    "print(rand_search.best_params_)\n",
    "print(rand_search.best_estimator_)"
   ]
  },
  {
   "cell_type": "code",
   "execution_count": 53,
   "id": "832e184c-76ab-4d7c-88ad-93268e468c8b",
   "metadata": {},
   "outputs": [],
   "source": [
    "from sklearn.tree import DecisionTreeClassifier\n",
    "\n",
    "class updated_dec_tree_model:\n",
    "    def __init__(self,train_x_vector,train_y,test_x_vector,test_y):\n",
    "        self.train_x_vector=train_x_vector\n",
    "        self.train_y=train_y\n",
    "        self.test_x_vector=test_x_vector\n",
    "        self.test_y=test_y\n",
    "    def model():\n",
    "        dec_tree = DecisionTreeClassifier(max_depth= 4, criterion= 'gini')\n",
    "        dec_tree.fit(train_x_vector,train_y)\n",
    "        tweet=input()\n",
    "        print(\"probability for the input to be positive or negative\")\n",
    "        prediction_prob=dec_tree.predict_proba(tfidf.transform([str(tweet)]))\n",
    "        print(prediction_prob)\n",
    "        print(\"prediction of the model\")\n",
    "        prediction=dec_tree.predict(tfidf.transform([str(tweet)]))\n",
    "        print(prediction)\n",
    "        print(\"classification report\")\n",
    "        print(classification_report(test_y,\n",
    "                            dec_tree.predict(test_x_vector),\n",
    "                            labels = ['positive','negative']))\n",
    "        print(\"accuracy_of_model\")\n",
    "        print(dec_tree.score(test_x_vector,test_y))"
   ]
  },
  {
   "cell_type": "code",
   "execution_count": 54,
   "id": "ade6ae88-bfb0-461f-a280-cdeaf8aeeb25",
   "metadata": {},
   "outputs": [
    {
     "name": "stdin",
     "output_type": "stream",
     "text": [
      " good flight but bad service\n"
     ]
    },
    {
     "name": "stdout",
     "output_type": "stream",
     "text": [
      "probability for the input to be positive or negative\n",
      "[[0. 1.]]\n",
      "prediction of the model\n",
      "['positive']\n",
      "classification report\n",
      "              precision    recall  f1-score   support\n",
      "\n",
      "    positive       0.94      0.88      0.91       335\n",
      "    negative       0.89      0.94      0.92       325\n",
      "\n",
      "    accuracy                           0.91       660\n",
      "   macro avg       0.91      0.91      0.91       660\n",
      "weighted avg       0.92      0.91      0.91       660\n",
      "\n",
      "accuracy_of_model\n",
      "0.9136363636363637\n"
     ]
    }
   ],
   "source": [
    "model2=updated_dec_tree_model.model()\n",
    "#classification_report=dec_tree_model.classification_report()\n",
    "#accuracy=model.accuracy_report()"
   ]
  },
  {
   "cell_type": "code",
   "execution_count": 69,
   "id": "7f6fe006-476b-4c9b-b96b-d8c06b6ca2d1",
   "metadata": {},
   "outputs": [
    {
     "name": "stderr",
     "output_type": "stream",
     "text": [
      "C:\\Users\\sunna\\anaconda3\\lib\\site-packages\\sklearn\\model_selection\\_search.py:306: UserWarning: The total space of parameters 7 is smaller than n_iter=20. Running 7 iterations. For exhaustive searches, use GridSearchCV.\n",
      "  warnings.warn(\n"
     ]
    },
    {
     "data": {
      "text/html": [
       "<style>#sk-container-id-16 {color: black;background-color: white;}#sk-container-id-16 pre{padding: 0;}#sk-container-id-16 div.sk-toggleable {background-color: white;}#sk-container-id-16 label.sk-toggleable__label {cursor: pointer;display: block;width: 100%;margin-bottom: 0;padding: 0.3em;box-sizing: border-box;text-align: center;}#sk-container-id-16 label.sk-toggleable__label-arrow:before {content: \"▸\";float: left;margin-right: 0.25em;color: #696969;}#sk-container-id-16 label.sk-toggleable__label-arrow:hover:before {color: black;}#sk-container-id-16 div.sk-estimator:hover label.sk-toggleable__label-arrow:before {color: black;}#sk-container-id-16 div.sk-toggleable__content {max-height: 0;max-width: 0;overflow: hidden;text-align: left;background-color: #f0f8ff;}#sk-container-id-16 div.sk-toggleable__content pre {margin: 0.2em;color: black;border-radius: 0.25em;background-color: #f0f8ff;}#sk-container-id-16 input.sk-toggleable__control:checked~div.sk-toggleable__content {max-height: 200px;max-width: 100%;overflow: auto;}#sk-container-id-16 input.sk-toggleable__control:checked~label.sk-toggleable__label-arrow:before {content: \"▾\";}#sk-container-id-16 div.sk-estimator input.sk-toggleable__control:checked~label.sk-toggleable__label {background-color: #d4ebff;}#sk-container-id-16 div.sk-label input.sk-toggleable__control:checked~label.sk-toggleable__label {background-color: #d4ebff;}#sk-container-id-16 input.sk-hidden--visually {border: 0;clip: rect(1px 1px 1px 1px);clip: rect(1px, 1px, 1px, 1px);height: 1px;margin: -1px;overflow: hidden;padding: 0;position: absolute;width: 1px;}#sk-container-id-16 div.sk-estimator {font-family: monospace;background-color: #f0f8ff;border: 1px dotted black;border-radius: 0.25em;box-sizing: border-box;margin-bottom: 0.5em;}#sk-container-id-16 div.sk-estimator:hover {background-color: #d4ebff;}#sk-container-id-16 div.sk-parallel-item::after {content: \"\";width: 100%;border-bottom: 1px solid gray;flex-grow: 1;}#sk-container-id-16 div.sk-label:hover label.sk-toggleable__label {background-color: #d4ebff;}#sk-container-id-16 div.sk-serial::before {content: \"\";position: absolute;border-left: 1px solid gray;box-sizing: border-box;top: 0;bottom: 0;left: 50%;z-index: 0;}#sk-container-id-16 div.sk-serial {display: flex;flex-direction: column;align-items: center;background-color: white;padding-right: 0.2em;padding-left: 0.2em;position: relative;}#sk-container-id-16 div.sk-item {position: relative;z-index: 1;}#sk-container-id-16 div.sk-parallel {display: flex;align-items: stretch;justify-content: center;background-color: white;position: relative;}#sk-container-id-16 div.sk-item::before, #sk-container-id-16 div.sk-parallel-item::before {content: \"\";position: absolute;border-left: 1px solid gray;box-sizing: border-box;top: 0;bottom: 0;left: 50%;z-index: -1;}#sk-container-id-16 div.sk-parallel-item {display: flex;flex-direction: column;z-index: 1;position: relative;background-color: white;}#sk-container-id-16 div.sk-parallel-item:first-child::after {align-self: flex-end;width: 50%;}#sk-container-id-16 div.sk-parallel-item:last-child::after {align-self: flex-start;width: 50%;}#sk-container-id-16 div.sk-parallel-item:only-child::after {width: 0;}#sk-container-id-16 div.sk-dashed-wrapped {border: 1px dashed gray;margin: 0 0.4em 0.5em 0.4em;box-sizing: border-box;padding-bottom: 0.4em;background-color: white;}#sk-container-id-16 div.sk-label label {font-family: monospace;font-weight: bold;display: inline-block;line-height: 1.2em;}#sk-container-id-16 div.sk-label-container {text-align: center;}#sk-container-id-16 div.sk-container {/* jupyter's `normalize.less` sets `[hidden] { display: none; }` but bootstrap.min.css set `[hidden] { display: none !important; }` so we also need the `!important` here to be able to override the default hidden behavior on the sphinx rendered scikit-learn.org. See: https://github.com/scikit-learn/scikit-learn/issues/21755 */display: inline-block !important;position: relative;}#sk-container-id-16 div.sk-text-repr-fallback {display: none;}</style><div id=\"sk-container-id-16\" class=\"sk-top-container\"><div class=\"sk-text-repr-fallback\"><pre>RandomizedSearchCV(cv=3, estimator=LogisticRegression(), n_iter=20, n_jobs=4,\n",
       "                   param_distributions={&#x27;C&#x27;: [0.001, 0.01, 0.1, 1, 10, 100,\n",
       "                                              1000]},\n",
       "                   random_state=2017)</pre><b>In a Jupyter environment, please rerun this cell to show the HTML representation or trust the notebook. <br />On GitHub, the HTML representation is unable to render, please try loading this page with nbviewer.org.</b></div><div class=\"sk-container\" hidden><div class=\"sk-item sk-dashed-wrapped\"><div class=\"sk-label-container\"><div class=\"sk-label sk-toggleable\"><input class=\"sk-toggleable__control sk-hidden--visually\" id=\"sk-estimator-id-24\" type=\"checkbox\" ><label for=\"sk-estimator-id-24\" class=\"sk-toggleable__label sk-toggleable__label-arrow\">RandomizedSearchCV</label><div class=\"sk-toggleable__content\"><pre>RandomizedSearchCV(cv=3, estimator=LogisticRegression(), n_iter=20, n_jobs=4,\n",
       "                   param_distributions={&#x27;C&#x27;: [0.001, 0.01, 0.1, 1, 10, 100,\n",
       "                                              1000]},\n",
       "                   random_state=2017)</pre></div></div></div><div class=\"sk-parallel\"><div class=\"sk-parallel-item\"><div class=\"sk-item\"><div class=\"sk-label-container\"><div class=\"sk-label sk-toggleable\"><input class=\"sk-toggleable__control sk-hidden--visually\" id=\"sk-estimator-id-25\" type=\"checkbox\" ><label for=\"sk-estimator-id-25\" class=\"sk-toggleable__label sk-toggleable__label-arrow\">estimator: LogisticRegression</label><div class=\"sk-toggleable__content\"><pre>LogisticRegression()</pre></div></div></div><div class=\"sk-serial\"><div class=\"sk-item\"><div class=\"sk-estimator sk-toggleable\"><input class=\"sk-toggleable__control sk-hidden--visually\" id=\"sk-estimator-id-26\" type=\"checkbox\" ><label for=\"sk-estimator-id-26\" class=\"sk-toggleable__label sk-toggleable__label-arrow\">LogisticRegression</label><div class=\"sk-toggleable__content\"><pre>LogisticRegression()</pre></div></div></div></div></div></div></div></div></div></div>"
      ],
      "text/plain": [
       "RandomizedSearchCV(cv=3, estimator=LogisticRegression(), n_iter=20, n_jobs=4,\n",
       "                   param_distributions={'C': [0.001, 0.01, 0.1, 1, 10, 100,\n",
       "                                              1000]},\n",
       "                   random_state=2017)"
      ]
     },
     "execution_count": 69,
     "metadata": {},
     "output_type": "execute_result"
    }
   ],
   "source": [
    "param_grid = {'C': [0.001, 0.01, 0.1, 1, 10, 100, 1000] }\n",
    "rand_search = RandomizedSearchCV(log_reg, param_distributions = param_grid, n_iter = 20, n_jobs = 4, cv = 3, random_state = 2017) \n",
    "rand_search.fit(train_x_vector, train_y) "
   ]
  },
  {
   "cell_type": "code",
   "execution_count": 70,
   "id": "bd1f737f-5483-4494-ba1d-d82309407811",
   "metadata": {},
   "outputs": [
    {
     "name": "stdout",
     "output_type": "stream",
     "text": [
      "{'C': 1}\n",
      "LogisticRegression(C=1)\n"
     ]
    }
   ],
   "source": [
    "print(rand_search.best_params_)\n",
    "print(rand_search.best_estimator_)"
   ]
  },
  {
   "cell_type": "code",
   "execution_count": 55,
   "id": "28556368-67a1-4dc9-ac67-10e061b287b2",
   "metadata": {},
   "outputs": [],
   "source": [
    "from sklearn.linear_model import LogisticRegression\n",
    "\n",
    "\n",
    "class updated_log_reg_model:\n",
    "    def __init__(self,train_x_vector,train_y,test_x_vector,test_y):\n",
    "        self.train_x_vector=train_x_vector\n",
    "        self.train_y=train_y\n",
    "        self.test_x_vector=test_x_vector\n",
    "        self.test_y=test_y\n",
    "    def model():\n",
    "        log_reg = LogisticRegression(C=1)\n",
    "        log_reg.fit(train_x_vector,train_y)\n",
    "        tweet=input()\n",
    "        print(\"probability for the input to be positive or negative\")\n",
    "        prediction_prob=log_reg.predict_proba(tfidf.transform([str(tweet)]))\n",
    "        print(prediction_prob)\n",
    "        print(\"prediction of the model\")\n",
    "        prediction=log_reg.predict(tfidf.transform([str(tweet)]))\n",
    "        print(prediction)\n",
    "        print(\"classification report\")\n",
    "        print(classification_report(test_y,\n",
    "                            log_reg.predict(test_x_vector),\n",
    "                            labels = ['positive','negative']))\n",
    "        print(\"accuracy_of_model\")\n",
    "        print(log_reg.score(test_x_vector,test_y))"
   ]
  },
  {
   "cell_type": "code",
   "execution_count": 56,
   "id": "4e08cfd9-c9c5-4aad-8d9d-c8e018475791",
   "metadata": {},
   "outputs": [
    {
     "name": "stdin",
     "output_type": "stream",
     "text": [
      " good flight but bad service\n"
     ]
    },
    {
     "name": "stdout",
     "output_type": "stream",
     "text": [
      "probability for the input to be positive or negative\n",
      "[[0.56040515 0.43959485]]\n",
      "prediction of the model\n",
      "['negative']\n",
      "classification report\n",
      "              precision    recall  f1-score   support\n",
      "\n",
      "    positive       0.98      0.86      0.91       335\n",
      "    negative       0.87      0.98      0.92       325\n",
      "\n",
      "    accuracy                           0.92       660\n",
      "   macro avg       0.92      0.92      0.92       660\n",
      "weighted avg       0.92      0.92      0.92       660\n",
      "\n",
      "accuracy_of_model\n",
      "0.9166666666666666\n"
     ]
    }
   ],
   "source": [
    "model=updated_log_reg_model.model()"
   ]
  },
  {
   "cell_type": "code",
   "execution_count": 76,
   "id": "470704f4-4970-4dda-b853-405b49c31677",
   "metadata": {},
   "outputs": [
    {
     "name": "stdout",
     "output_type": "stream",
     "text": [
      "Fitting 5 folds for each of 10 candidates, totalling 50 fits\n",
      "[LightGBM] [Warning] Unknown parameter: bagging_frequency\n",
      "[LightGBM] [Warning] feature_fraction is set=0.8, colsample_bytree=1.0 will be ignored. Current value: feature_fraction=0.8\n",
      "[LightGBM] [Warning] min_data_in_leaf is set=90, min_child_samples=20 will be ignored. Current value: min_data_in_leaf=90\n",
      "[LightGBM] [Warning] bagging_fraction is set=0.8, subsample=1.0 will be ignored. Current value: bagging_fraction=0.8\n",
      "[LightGBM] [Warning] Unknown parameter: bagging_frequency\n",
      "[LightGBM] [Warning] feature_fraction is set=0.8, colsample_bytree=1.0 will be ignored. Current value: feature_fraction=0.8\n",
      "[LightGBM] [Warning] min_data_in_leaf is set=90, min_child_samples=20 will be ignored. Current value: min_data_in_leaf=90\n",
      "[LightGBM] [Warning] bagging_fraction is set=0.8, subsample=1.0 will be ignored. Current value: bagging_fraction=0.8\n",
      "[LightGBM] [Warning] Unknown parameter: bagging_frequency\n",
      "[LightGBM] [Warning] feature_fraction is set=0.8, colsample_bytree=1.0 will be ignored. Current value: feature_fraction=0.8\n",
      "[LightGBM] [Warning] min_data_in_leaf is set=90, min_child_samples=20 will be ignored. Current value: min_data_in_leaf=90\n",
      "[LightGBM] [Warning] bagging_fraction is set=0.8, subsample=1.0 will be ignored. Current value: bagging_fraction=0.8\n",
      "[LightGBM] [Warning] Unknown parameter: bagging_frequency\n",
      "[LightGBM] [Warning] feature_fraction is set=0.8, colsample_bytree=1.0 will be ignored. Current value: feature_fraction=0.8\n",
      "[LightGBM] [Warning] min_data_in_leaf is set=90, min_child_samples=20 will be ignored. Current value: min_data_in_leaf=90\n",
      "[LightGBM] [Warning] bagging_fraction is set=0.8, subsample=1.0 will be ignored. Current value: bagging_fraction=0.8\n",
      "[LightGBM] [Warning] Unknown parameter: bagging_frequency\n",
      "[LightGBM] [Warning] feature_fraction is set=0.8, colsample_bytree=1.0 will be ignored. Current value: feature_fraction=0.8\n",
      "[LightGBM] [Warning] min_data_in_leaf is set=90, min_child_samples=20 will be ignored. Current value: min_data_in_leaf=90\n",
      "[LightGBM] [Warning] bagging_fraction is set=0.8, subsample=1.0 will be ignored. Current value: bagging_fraction=0.8\n",
      "[LightGBM] [Warning] Unknown parameter: bagging_frequency\n",
      "[LightGBM] [Warning] feature_fraction is set=0.8, colsample_bytree=1.0 will be ignored. Current value: feature_fraction=0.8\n",
      "[LightGBM] [Warning] min_data_in_leaf is set=120, min_child_samples=20 will be ignored. Current value: min_data_in_leaf=120\n",
      "[LightGBM] [Warning] bagging_fraction is set=0.5, subsample=1.0 will be ignored. Current value: bagging_fraction=0.5\n",
      "[LightGBM] [Warning] Unknown parameter: bagging_frequency\n",
      "[LightGBM] [Warning] feature_fraction is set=0.8, colsample_bytree=1.0 will be ignored. Current value: feature_fraction=0.8\n",
      "[LightGBM] [Warning] min_data_in_leaf is set=120, min_child_samples=20 will be ignored. Current value: min_data_in_leaf=120\n",
      "[LightGBM] [Warning] bagging_fraction is set=0.5, subsample=1.0 will be ignored. Current value: bagging_fraction=0.5\n",
      "[LightGBM] [Warning] Unknown parameter: bagging_frequency\n",
      "[LightGBM] [Warning] feature_fraction is set=0.8, colsample_bytree=1.0 will be ignored. Current value: feature_fraction=0.8\n",
      "[LightGBM] [Warning] min_data_in_leaf is set=120, min_child_samples=20 will be ignored. Current value: min_data_in_leaf=120\n",
      "[LightGBM] [Warning] bagging_fraction is set=0.5, subsample=1.0 will be ignored. Current value: bagging_fraction=0.5\n",
      "[LightGBM] [Warning] Unknown parameter: bagging_frequency\n",
      "[LightGBM] [Warning] feature_fraction is set=0.8, colsample_bytree=1.0 will be ignored. Current value: feature_fraction=0.8\n",
      "[LightGBM] [Warning] min_data_in_leaf is set=120, min_child_samples=20 will be ignored. Current value: min_data_in_leaf=120\n",
      "[LightGBM] [Warning] bagging_fraction is set=0.5, subsample=1.0 will be ignored. Current value: bagging_fraction=0.5\n",
      "[LightGBM] [Warning] Unknown parameter: bagging_frequency\n",
      "[LightGBM] [Warning] feature_fraction is set=0.8, colsample_bytree=1.0 will be ignored. Current value: feature_fraction=0.8\n",
      "[LightGBM] [Warning] min_data_in_leaf is set=120, min_child_samples=20 will be ignored. Current value: min_data_in_leaf=120\n",
      "[LightGBM] [Warning] bagging_fraction is set=0.5, subsample=1.0 will be ignored. Current value: bagging_fraction=0.5\n",
      "[LightGBM] [Warning] Unknown parameter: bagging_frequency\n",
      "[LightGBM] [Warning] feature_fraction is set=0.8, colsample_bytree=1.0 will be ignored. Current value: feature_fraction=0.8\n",
      "[LightGBM] [Warning] min_data_in_leaf is set=120, min_child_samples=20 will be ignored. Current value: min_data_in_leaf=120\n",
      "[LightGBM] [Warning] bagging_fraction is set=0.5, subsample=1.0 will be ignored. Current value: bagging_fraction=0.5\n",
      "[LightGBM] [Warning] Unknown parameter: bagging_frequency\n",
      "[LightGBM] [Warning] feature_fraction is set=0.8, colsample_bytree=1.0 will be ignored. Current value: feature_fraction=0.8\n",
      "[LightGBM] [Warning] min_data_in_leaf is set=120, min_child_samples=20 will be ignored. Current value: min_data_in_leaf=120\n",
      "[LightGBM] [Warning] bagging_fraction is set=0.5, subsample=1.0 will be ignored. Current value: bagging_fraction=0.5\n",
      "[LightGBM] [Warning] Unknown parameter: bagging_frequency\n",
      "[LightGBM] [Warning] feature_fraction is set=0.8, colsample_bytree=1.0 will be ignored. Current value: feature_fraction=0.8\n",
      "[LightGBM] [Warning] min_data_in_leaf is set=120, min_child_samples=20 will be ignored. Current value: min_data_in_leaf=120\n",
      "[LightGBM] [Warning] bagging_fraction is set=0.5, subsample=1.0 will be ignored. Current value: bagging_fraction=0.5\n",
      "[LightGBM] [Warning] Unknown parameter: bagging_frequency\n",
      "[LightGBM] [Warning] feature_fraction is set=0.8, colsample_bytree=1.0 will be ignored. Current value: feature_fraction=0.8\n",
      "[LightGBM] [Warning] min_data_in_leaf is set=120, min_child_samples=20 will be ignored. Current value: min_data_in_leaf=120\n",
      "[LightGBM] [Warning] bagging_fraction is set=0.5, subsample=1.0 will be ignored. Current value: bagging_fraction=0.5\n",
      "[LightGBM] [Warning] Unknown parameter: bagging_frequency\n",
      "[LightGBM] [Warning] feature_fraction is set=0.8, colsample_bytree=1.0 will be ignored. Current value: feature_fraction=0.8\n",
      "[LightGBM] [Warning] min_data_in_leaf is set=120, min_child_samples=20 will be ignored. Current value: min_data_in_leaf=120\n",
      "[LightGBM] [Warning] bagging_fraction is set=0.5, subsample=1.0 will be ignored. Current value: bagging_fraction=0.5\n",
      "[LightGBM] [Warning] Unknown parameter: bagging_frequency\n",
      "[LightGBM] [Warning] feature_fraction is set=0.5, colsample_bytree=1.0 will be ignored. Current value: feature_fraction=0.5\n",
      "[LightGBM] [Warning] min_data_in_leaf is set=90, min_child_samples=20 will be ignored. Current value: min_data_in_leaf=90\n",
      "[LightGBM] [Warning] bagging_fraction is set=0.5, subsample=1.0 will be ignored. Current value: bagging_fraction=0.5\n",
      "[LightGBM] [Warning] Unknown parameter: bagging_frequency\n",
      "[LightGBM] [Warning] feature_fraction is set=0.5, colsample_bytree=1.0 will be ignored. Current value: feature_fraction=0.5\n",
      "[LightGBM] [Warning] min_data_in_leaf is set=90, min_child_samples=20 will be ignored. Current value: min_data_in_leaf=90\n",
      "[LightGBM] [Warning] bagging_fraction is set=0.5, subsample=1.0 will be ignored. Current value: bagging_fraction=0.5\n",
      "[LightGBM] [Warning] Unknown parameter: bagging_frequency\n",
      "[LightGBM] [Warning] feature_fraction is set=0.5, colsample_bytree=1.0 will be ignored. Current value: feature_fraction=0.5\n",
      "[LightGBM] [Warning] min_data_in_leaf is set=90, min_child_samples=20 will be ignored. Current value: min_data_in_leaf=90\n",
      "[LightGBM] [Warning] bagging_fraction is set=0.5, subsample=1.0 will be ignored. Current value: bagging_fraction=0.5\n",
      "[LightGBM] [Warning] Unknown parameter: bagging_frequency\n",
      "[LightGBM] [Warning] feature_fraction is set=0.5, colsample_bytree=1.0 will be ignored. Current value: feature_fraction=0.5\n",
      "[LightGBM] [Warning] min_data_in_leaf is set=90, min_child_samples=20 will be ignored. Current value: min_data_in_leaf=90\n",
      "[LightGBM] [Warning] bagging_fraction is set=0.5, subsample=1.0 will be ignored. Current value: bagging_fraction=0.5\n",
      "[LightGBM] [Warning] Unknown parameter: bagging_frequency\n",
      "[LightGBM] [Warning] feature_fraction is set=0.5, colsample_bytree=1.0 will be ignored. Current value: feature_fraction=0.5\n",
      "[LightGBM] [Warning] min_data_in_leaf is set=90, min_child_samples=20 will be ignored. Current value: min_data_in_leaf=90\n",
      "[LightGBM] [Warning] bagging_fraction is set=0.5, subsample=1.0 will be ignored. Current value: bagging_fraction=0.5\n",
      "[LightGBM] [Warning] Unknown parameter: bagging_frequency\n",
      "[LightGBM] [Warning] feature_fraction is set=0.8, colsample_bytree=1.0 will be ignored. Current value: feature_fraction=0.8\n",
      "[LightGBM] [Warning] min_data_in_leaf is set=90, min_child_samples=20 will be ignored. Current value: min_data_in_leaf=90\n",
      "[LightGBM] [Warning] bagging_fraction is set=0.5, subsample=1.0 will be ignored. Current value: bagging_fraction=0.5\n",
      "[LightGBM] [Warning] Unknown parameter: bagging_frequency\n",
      "[LightGBM] [Warning] feature_fraction is set=0.8, colsample_bytree=1.0 will be ignored. Current value: feature_fraction=0.8\n",
      "[LightGBM] [Warning] min_data_in_leaf is set=90, min_child_samples=20 will be ignored. Current value: min_data_in_leaf=90\n",
      "[LightGBM] [Warning] bagging_fraction is set=0.5, subsample=1.0 will be ignored. Current value: bagging_fraction=0.5\n",
      "[LightGBM] [Warning] Unknown parameter: bagging_frequency\n",
      "[LightGBM] [Warning] feature_fraction is set=0.8, colsample_bytree=1.0 will be ignored. Current value: feature_fraction=0.8\n",
      "[LightGBM] [Warning] min_data_in_leaf is set=90, min_child_samples=20 will be ignored. Current value: min_data_in_leaf=90\n",
      "[LightGBM] [Warning] bagging_fraction is set=0.5, subsample=1.0 will be ignored. Current value: bagging_fraction=0.5\n",
      "[LightGBM] [Warning] Unknown parameter: bagging_frequency\n",
      "[LightGBM] [Warning] feature_fraction is set=0.8, colsample_bytree=1.0 will be ignored. Current value: feature_fraction=0.8\n",
      "[LightGBM] [Warning] min_data_in_leaf is set=90, min_child_samples=20 will be ignored. Current value: min_data_in_leaf=90\n",
      "[LightGBM] [Warning] bagging_fraction is set=0.5, subsample=1.0 will be ignored. Current value: bagging_fraction=0.5\n",
      "[LightGBM] [Warning] Unknown parameter: bagging_frequency\n",
      "[LightGBM] [Warning] feature_fraction is set=0.8, colsample_bytree=1.0 will be ignored. Current value: feature_fraction=0.8\n",
      "[LightGBM] [Warning] min_data_in_leaf is set=90, min_child_samples=20 will be ignored. Current value: min_data_in_leaf=90\n",
      "[LightGBM] [Warning] bagging_fraction is set=0.5, subsample=1.0 will be ignored. Current value: bagging_fraction=0.5\n",
      "[LightGBM] [Warning] Unknown parameter: bagging_frequency\n",
      "[LightGBM] [Warning] feature_fraction is set=0.5, colsample_bytree=1.0 will be ignored. Current value: feature_fraction=0.5\n",
      "[LightGBM] [Warning] min_data_in_leaf is set=90, min_child_samples=20 will be ignored. Current value: min_data_in_leaf=90\n",
      "[LightGBM] [Warning] bagging_fraction is set=0.5, subsample=1.0 will be ignored. Current value: bagging_fraction=0.5\n",
      "[LightGBM] [Warning] Unknown parameter: bagging_frequency\n",
      "[LightGBM] [Warning] feature_fraction is set=0.5, colsample_bytree=1.0 will be ignored. Current value: feature_fraction=0.5\n",
      "[LightGBM] [Warning] min_data_in_leaf is set=90, min_child_samples=20 will be ignored. Current value: min_data_in_leaf=90\n",
      "[LightGBM] [Warning] bagging_fraction is set=0.5, subsample=1.0 will be ignored. Current value: bagging_fraction=0.5\n",
      "[LightGBM] [Warning] Unknown parameter: bagging_frequency\n",
      "[LightGBM] [Warning] feature_fraction is set=0.5, colsample_bytree=1.0 will be ignored. Current value: feature_fraction=0.5\n",
      "[LightGBM] [Warning] min_data_in_leaf is set=90, min_child_samples=20 will be ignored. Current value: min_data_in_leaf=90\n",
      "[LightGBM] [Warning] bagging_fraction is set=0.5, subsample=1.0 will be ignored. Current value: bagging_fraction=0.5\n",
      "[LightGBM] [Warning] Unknown parameter: bagging_frequency\n",
      "[LightGBM] [Warning] feature_fraction is set=0.5, colsample_bytree=1.0 will be ignored. Current value: feature_fraction=0.5\n",
      "[LightGBM] [Warning] min_data_in_leaf is set=90, min_child_samples=20 will be ignored. Current value: min_data_in_leaf=90\n",
      "[LightGBM] [Warning] bagging_fraction is set=0.5, subsample=1.0 will be ignored. Current value: bagging_fraction=0.5\n",
      "[LightGBM] [Warning] Unknown parameter: bagging_frequency\n",
      "[LightGBM] [Warning] feature_fraction is set=0.5, colsample_bytree=1.0 will be ignored. Current value: feature_fraction=0.5\n",
      "[LightGBM] [Warning] min_data_in_leaf is set=90, min_child_samples=20 will be ignored. Current value: min_data_in_leaf=90\n",
      "[LightGBM] [Warning] bagging_fraction is set=0.5, subsample=1.0 will be ignored. Current value: bagging_fraction=0.5\n",
      "[LightGBM] [Warning] Unknown parameter: bagging_frequency\n",
      "[LightGBM] [Warning] feature_fraction is set=0.8, colsample_bytree=1.0 will be ignored. Current value: feature_fraction=0.8\n",
      "[LightGBM] [Warning] min_data_in_leaf is set=120, min_child_samples=20 will be ignored. Current value: min_data_in_leaf=120\n",
      "[LightGBM] [Warning] bagging_fraction is set=0.8, subsample=1.0 will be ignored. Current value: bagging_fraction=0.8\n",
      "[LightGBM] [Warning] Unknown parameter: bagging_frequency\n",
      "[LightGBM] [Warning] feature_fraction is set=0.8, colsample_bytree=1.0 will be ignored. Current value: feature_fraction=0.8\n",
      "[LightGBM] [Warning] min_data_in_leaf is set=120, min_child_samples=20 will be ignored. Current value: min_data_in_leaf=120\n",
      "[LightGBM] [Warning] bagging_fraction is set=0.8, subsample=1.0 will be ignored. Current value: bagging_fraction=0.8\n",
      "[LightGBM] [Warning] Unknown parameter: bagging_frequency\n",
      "[LightGBM] [Warning] feature_fraction is set=0.8, colsample_bytree=1.0 will be ignored. Current value: feature_fraction=0.8\n",
      "[LightGBM] [Warning] min_data_in_leaf is set=120, min_child_samples=20 will be ignored. Current value: min_data_in_leaf=120\n",
      "[LightGBM] [Warning] bagging_fraction is set=0.8, subsample=1.0 will be ignored. Current value: bagging_fraction=0.8\n",
      "[LightGBM] [Warning] Unknown parameter: bagging_frequency\n",
      "[LightGBM] [Warning] feature_fraction is set=0.8, colsample_bytree=1.0 will be ignored. Current value: feature_fraction=0.8\n",
      "[LightGBM] [Warning] min_data_in_leaf is set=120, min_child_samples=20 will be ignored. Current value: min_data_in_leaf=120\n",
      "[LightGBM] [Warning] bagging_fraction is set=0.8, subsample=1.0 will be ignored. Current value: bagging_fraction=0.8\n",
      "[LightGBM] [Warning] Unknown parameter: bagging_frequency\n",
      "[LightGBM] [Warning] feature_fraction is set=0.8, colsample_bytree=1.0 will be ignored. Current value: feature_fraction=0.8\n",
      "[LightGBM] [Warning] min_data_in_leaf is set=120, min_child_samples=20 will be ignored. Current value: min_data_in_leaf=120\n",
      "[LightGBM] [Warning] bagging_fraction is set=0.8, subsample=1.0 will be ignored. Current value: bagging_fraction=0.8\n",
      "[LightGBM] [Warning] Unknown parameter: bagging_frequency\n",
      "[LightGBM] [Warning] feature_fraction is set=0.5, colsample_bytree=1.0 will be ignored. Current value: feature_fraction=0.5\n",
      "[LightGBM] [Warning] min_data_in_leaf is set=120, min_child_samples=20 will be ignored. Current value: min_data_in_leaf=120\n",
      "[LightGBM] [Warning] bagging_fraction is set=0.5, subsample=1.0 will be ignored. Current value: bagging_fraction=0.5\n",
      "[LightGBM] [Warning] Unknown parameter: bagging_frequency\n",
      "[LightGBM] [Warning] feature_fraction is set=0.5, colsample_bytree=1.0 will be ignored. Current value: feature_fraction=0.5\n",
      "[LightGBM] [Warning] min_data_in_leaf is set=120, min_child_samples=20 will be ignored. Current value: min_data_in_leaf=120\n",
      "[LightGBM] [Warning] bagging_fraction is set=0.5, subsample=1.0 will be ignored. Current value: bagging_fraction=0.5\n",
      "[LightGBM] [Warning] Unknown parameter: bagging_frequency\n",
      "[LightGBM] [Warning] feature_fraction is set=0.5, colsample_bytree=1.0 will be ignored. Current value: feature_fraction=0.5\n",
      "[LightGBM] [Warning] min_data_in_leaf is set=120, min_child_samples=20 will be ignored. Current value: min_data_in_leaf=120\n",
      "[LightGBM] [Warning] bagging_fraction is set=0.5, subsample=1.0 will be ignored. Current value: bagging_fraction=0.5\n",
      "[LightGBM] [Warning] Unknown parameter: bagging_frequency\n",
      "[LightGBM] [Warning] feature_fraction is set=0.5, colsample_bytree=1.0 will be ignored. Current value: feature_fraction=0.5\n",
      "[LightGBM] [Warning] min_data_in_leaf is set=120, min_child_samples=20 will be ignored. Current value: min_data_in_leaf=120\n",
      "[LightGBM] [Warning] bagging_fraction is set=0.5, subsample=1.0 will be ignored. Current value: bagging_fraction=0.5\n",
      "[LightGBM] [Warning] Unknown parameter: bagging_frequency\n",
      "[LightGBM] [Warning] feature_fraction is set=0.5, colsample_bytree=1.0 will be ignored. Current value: feature_fraction=0.5\n",
      "[LightGBM] [Warning] min_data_in_leaf is set=120, min_child_samples=20 will be ignored. Current value: min_data_in_leaf=120\n",
      "[LightGBM] [Warning] bagging_fraction is set=0.5, subsample=1.0 will be ignored. Current value: bagging_fraction=0.5\n",
      "[LightGBM] [Warning] Unknown parameter: bagging_frequency\n",
      "[LightGBM] [Warning] feature_fraction is set=0.8, colsample_bytree=1.0 will be ignored. Current value: feature_fraction=0.8\n",
      "[LightGBM] [Warning] min_data_in_leaf is set=120, min_child_samples=20 will be ignored. Current value: min_data_in_leaf=120\n",
      "[LightGBM] [Warning] bagging_fraction is set=0.8, subsample=1.0 will be ignored. Current value: bagging_fraction=0.8\n",
      "[LightGBM] [Warning] Unknown parameter: bagging_frequency\n",
      "[LightGBM] [Warning] feature_fraction is set=0.8, colsample_bytree=1.0 will be ignored. Current value: feature_fraction=0.8\n",
      "[LightGBM] [Warning] min_data_in_leaf is set=120, min_child_samples=20 will be ignored. Current value: min_data_in_leaf=120\n",
      "[LightGBM] [Warning] bagging_fraction is set=0.8, subsample=1.0 will be ignored. Current value: bagging_fraction=0.8\n",
      "[LightGBM] [Warning] Unknown parameter: bagging_frequency\n",
      "[LightGBM] [Warning] feature_fraction is set=0.8, colsample_bytree=1.0 will be ignored. Current value: feature_fraction=0.8\n",
      "[LightGBM] [Warning] min_data_in_leaf is set=120, min_child_samples=20 will be ignored. Current value: min_data_in_leaf=120\n",
      "[LightGBM] [Warning] bagging_fraction is set=0.8, subsample=1.0 will be ignored. Current value: bagging_fraction=0.8\n",
      "[LightGBM] [Warning] Unknown parameter: bagging_frequency\n",
      "[LightGBM] [Warning] feature_fraction is set=0.8, colsample_bytree=1.0 will be ignored. Current value: feature_fraction=0.8\n",
      "[LightGBM] [Warning] min_data_in_leaf is set=120, min_child_samples=20 will be ignored. Current value: min_data_in_leaf=120\n",
      "[LightGBM] [Warning] bagging_fraction is set=0.8, subsample=1.0 will be ignored. Current value: bagging_fraction=0.8\n",
      "[LightGBM] [Warning] Unknown parameter: bagging_frequency\n",
      "[LightGBM] [Warning] feature_fraction is set=0.8, colsample_bytree=1.0 will be ignored. Current value: feature_fraction=0.8\n",
      "[LightGBM] [Warning] min_data_in_leaf is set=120, min_child_samples=20 will be ignored. Current value: min_data_in_leaf=120\n",
      "[LightGBM] [Warning] bagging_fraction is set=0.8, subsample=1.0 will be ignored. Current value: bagging_fraction=0.8\n",
      "[LightGBM] [Warning] Unknown parameter: bagging_frequency\n",
      "[LightGBM] [Warning] feature_fraction is set=0.8, colsample_bytree=1.0 will be ignored. Current value: feature_fraction=0.8\n",
      "[LightGBM] [Warning] min_data_in_leaf is set=120, min_child_samples=20 will be ignored. Current value: min_data_in_leaf=120\n",
      "[LightGBM] [Warning] bagging_fraction is set=0.5, subsample=1.0 will be ignored. Current value: bagging_fraction=0.5\n",
      "[LightGBM] [Warning] Unknown parameter: bagging_frequency\n",
      "[LightGBM] [Warning] feature_fraction is set=0.8, colsample_bytree=1.0 will be ignored. Current value: feature_fraction=0.8\n",
      "[LightGBM] [Warning] min_data_in_leaf is set=120, min_child_samples=20 will be ignored. Current value: min_data_in_leaf=120\n",
      "[LightGBM] [Warning] bagging_fraction is set=0.5, subsample=1.0 will be ignored. Current value: bagging_fraction=0.5\n",
      "[LightGBM] [Warning] Unknown parameter: bagging_frequency\n",
      "[LightGBM] [Warning] feature_fraction is set=0.8, colsample_bytree=1.0 will be ignored. Current value: feature_fraction=0.8\n",
      "[LightGBM] [Warning] min_data_in_leaf is set=120, min_child_samples=20 will be ignored. Current value: min_data_in_leaf=120\n",
      "[LightGBM] [Warning] bagging_fraction is set=0.5, subsample=1.0 will be ignored. Current value: bagging_fraction=0.5\n",
      "[LightGBM] [Warning] Unknown parameter: bagging_frequency\n",
      "[LightGBM] [Warning] feature_fraction is set=0.8, colsample_bytree=1.0 will be ignored. Current value: feature_fraction=0.8\n",
      "[LightGBM] [Warning] min_data_in_leaf is set=120, min_child_samples=20 will be ignored. Current value: min_data_in_leaf=120\n",
      "[LightGBM] [Warning] bagging_fraction is set=0.5, subsample=1.0 will be ignored. Current value: bagging_fraction=0.5\n",
      "[LightGBM] [Warning] Unknown parameter: bagging_frequency\n",
      "[LightGBM] [Warning] feature_fraction is set=0.8, colsample_bytree=1.0 will be ignored. Current value: feature_fraction=0.8\n",
      "[LightGBM] [Warning] min_data_in_leaf is set=120, min_child_samples=20 will be ignored. Current value: min_data_in_leaf=120\n",
      "[LightGBM] [Warning] bagging_fraction is set=0.5, subsample=1.0 will be ignored. Current value: bagging_fraction=0.5\n",
      "[LightGBM] [Warning] Unknown parameter: bagging_frequency\n",
      "[LightGBM] [Warning] feature_fraction is set=0.5, colsample_bytree=1.0 will be ignored. Current value: feature_fraction=0.5\n",
      "[LightGBM] [Warning] min_data_in_leaf is set=90, min_child_samples=20 will be ignored. Current value: min_data_in_leaf=90\n",
      "[LightGBM] [Warning] bagging_fraction is set=0.5, subsample=1.0 will be ignored. Current value: bagging_fraction=0.5\n"
     ]
    },
    {
     "data": {
      "text/html": [
       "<style>#sk-container-id-18 {color: black;background-color: white;}#sk-container-id-18 pre{padding: 0;}#sk-container-id-18 div.sk-toggleable {background-color: white;}#sk-container-id-18 label.sk-toggleable__label {cursor: pointer;display: block;width: 100%;margin-bottom: 0;padding: 0.3em;box-sizing: border-box;text-align: center;}#sk-container-id-18 label.sk-toggleable__label-arrow:before {content: \"▸\";float: left;margin-right: 0.25em;color: #696969;}#sk-container-id-18 label.sk-toggleable__label-arrow:hover:before {color: black;}#sk-container-id-18 div.sk-estimator:hover label.sk-toggleable__label-arrow:before {color: black;}#sk-container-id-18 div.sk-toggleable__content {max-height: 0;max-width: 0;overflow: hidden;text-align: left;background-color: #f0f8ff;}#sk-container-id-18 div.sk-toggleable__content pre {margin: 0.2em;color: black;border-radius: 0.25em;background-color: #f0f8ff;}#sk-container-id-18 input.sk-toggleable__control:checked~div.sk-toggleable__content {max-height: 200px;max-width: 100%;overflow: auto;}#sk-container-id-18 input.sk-toggleable__control:checked~label.sk-toggleable__label-arrow:before {content: \"▾\";}#sk-container-id-18 div.sk-estimator input.sk-toggleable__control:checked~label.sk-toggleable__label {background-color: #d4ebff;}#sk-container-id-18 div.sk-label input.sk-toggleable__control:checked~label.sk-toggleable__label {background-color: #d4ebff;}#sk-container-id-18 input.sk-hidden--visually {border: 0;clip: rect(1px 1px 1px 1px);clip: rect(1px, 1px, 1px, 1px);height: 1px;margin: -1px;overflow: hidden;padding: 0;position: absolute;width: 1px;}#sk-container-id-18 div.sk-estimator {font-family: monospace;background-color: #f0f8ff;border: 1px dotted black;border-radius: 0.25em;box-sizing: border-box;margin-bottom: 0.5em;}#sk-container-id-18 div.sk-estimator:hover {background-color: #d4ebff;}#sk-container-id-18 div.sk-parallel-item::after {content: \"\";width: 100%;border-bottom: 1px solid gray;flex-grow: 1;}#sk-container-id-18 div.sk-label:hover label.sk-toggleable__label {background-color: #d4ebff;}#sk-container-id-18 div.sk-serial::before {content: \"\";position: absolute;border-left: 1px solid gray;box-sizing: border-box;top: 0;bottom: 0;left: 50%;z-index: 0;}#sk-container-id-18 div.sk-serial {display: flex;flex-direction: column;align-items: center;background-color: white;padding-right: 0.2em;padding-left: 0.2em;position: relative;}#sk-container-id-18 div.sk-item {position: relative;z-index: 1;}#sk-container-id-18 div.sk-parallel {display: flex;align-items: stretch;justify-content: center;background-color: white;position: relative;}#sk-container-id-18 div.sk-item::before, #sk-container-id-18 div.sk-parallel-item::before {content: \"\";position: absolute;border-left: 1px solid gray;box-sizing: border-box;top: 0;bottom: 0;left: 50%;z-index: -1;}#sk-container-id-18 div.sk-parallel-item {display: flex;flex-direction: column;z-index: 1;position: relative;background-color: white;}#sk-container-id-18 div.sk-parallel-item:first-child::after {align-self: flex-end;width: 50%;}#sk-container-id-18 div.sk-parallel-item:last-child::after {align-self: flex-start;width: 50%;}#sk-container-id-18 div.sk-parallel-item:only-child::after {width: 0;}#sk-container-id-18 div.sk-dashed-wrapped {border: 1px dashed gray;margin: 0 0.4em 0.5em 0.4em;box-sizing: border-box;padding-bottom: 0.4em;background-color: white;}#sk-container-id-18 div.sk-label label {font-family: monospace;font-weight: bold;display: inline-block;line-height: 1.2em;}#sk-container-id-18 div.sk-label-container {text-align: center;}#sk-container-id-18 div.sk-container {/* jupyter's `normalize.less` sets `[hidden] { display: none; }` but bootstrap.min.css set `[hidden] { display: none !important; }` so we also need the `!important` here to be able to override the default hidden behavior on the sphinx rendered scikit-learn.org. See: https://github.com/scikit-learn/scikit-learn/issues/21755 */display: inline-block !important;position: relative;}#sk-container-id-18 div.sk-text-repr-fallback {display: none;}</style><div id=\"sk-container-id-18\" class=\"sk-top-container\"><div class=\"sk-text-repr-fallback\"><pre>RandomizedSearchCV(cv=5, estimator=LGBMClassifier(),\n",
       "                   param_distributions={&#x27;bagging_fraction&#x27;: (0.5, 0.8),\n",
       "                                        &#x27;bagging_frequency&#x27;: (5, 8),\n",
       "                                        &#x27;feature_fraction&#x27;: (0.5, 0.8),\n",
       "                                        &#x27;max_depth&#x27;: (10, 13),\n",
       "                                        &#x27;min_data_in_leaf&#x27;: (90, 120),\n",
       "                                        &#x27;num_leaves&#x27;: (1200, 1550)},\n",
       "                   verbose=1)</pre><b>In a Jupyter environment, please rerun this cell to show the HTML representation or trust the notebook. <br />On GitHub, the HTML representation is unable to render, please try loading this page with nbviewer.org.</b></div><div class=\"sk-container\" hidden><div class=\"sk-item sk-dashed-wrapped\"><div class=\"sk-label-container\"><div class=\"sk-label sk-toggleable\"><input class=\"sk-toggleable__control sk-hidden--visually\" id=\"sk-estimator-id-28\" type=\"checkbox\" ><label for=\"sk-estimator-id-28\" class=\"sk-toggleable__label sk-toggleable__label-arrow\">RandomizedSearchCV</label><div class=\"sk-toggleable__content\"><pre>RandomizedSearchCV(cv=5, estimator=LGBMClassifier(),\n",
       "                   param_distributions={&#x27;bagging_fraction&#x27;: (0.5, 0.8),\n",
       "                                        &#x27;bagging_frequency&#x27;: (5, 8),\n",
       "                                        &#x27;feature_fraction&#x27;: (0.5, 0.8),\n",
       "                                        &#x27;max_depth&#x27;: (10, 13),\n",
       "                                        &#x27;min_data_in_leaf&#x27;: (90, 120),\n",
       "                                        &#x27;num_leaves&#x27;: (1200, 1550)},\n",
       "                   verbose=1)</pre></div></div></div><div class=\"sk-parallel\"><div class=\"sk-parallel-item\"><div class=\"sk-item\"><div class=\"sk-label-container\"><div class=\"sk-label sk-toggleable\"><input class=\"sk-toggleable__control sk-hidden--visually\" id=\"sk-estimator-id-29\" type=\"checkbox\" ><label for=\"sk-estimator-id-29\" class=\"sk-toggleable__label sk-toggleable__label-arrow\">estimator: LGBMClassifier</label><div class=\"sk-toggleable__content\"><pre>LGBMClassifier()</pre></div></div></div><div class=\"sk-serial\"><div class=\"sk-item\"><div class=\"sk-estimator sk-toggleable\"><input class=\"sk-toggleable__control sk-hidden--visually\" id=\"sk-estimator-id-30\" type=\"checkbox\" ><label for=\"sk-estimator-id-30\" class=\"sk-toggleable__label sk-toggleable__label-arrow\">LGBMClassifier</label><div class=\"sk-toggleable__content\"><pre>LGBMClassifier()</pre></div></div></div></div></div></div></div></div></div></div>"
      ],
      "text/plain": [
       "RandomizedSearchCV(cv=5, estimator=LGBMClassifier(),\n",
       "                   param_distributions={'bagging_fraction': (0.5, 0.8),\n",
       "                                        'bagging_frequency': (5, 8),\n",
       "                                        'feature_fraction': (0.5, 0.8),\n",
       "                                        'max_depth': (10, 13),\n",
       "                                        'min_data_in_leaf': (90, 120),\n",
       "                                        'num_leaves': (1200, 1550)},\n",
       "                   verbose=1)"
      ]
     },
     "execution_count": 76,
     "metadata": {},
     "output_type": "execute_result"
    }
   ],
   "source": [
    "rs_params = {\n",
    "        'bagging_fraction': (0.5, 0.8),\n",
    "        'bagging_frequency': (5, 8),\n",
    "        'feature_fraction': (0.5, 0.8),\n",
    "        'max_depth': (10, 13),\n",
    "        'min_data_in_leaf': (90, 120),\n",
    "        'num_leaves': (1200, 1550)\n",
    "}\n",
    "rs_cv = RandomizedSearchCV(estimator=lgb.LGBMClassifier(), param_distributions=rs_params, cv = 5, n_iter=10,verbose=1)\n",
    "rs_cv.fit(train_x_vector, train_y)"
   ]
  },
  {
   "cell_type": "code",
   "execution_count": 77,
   "id": "019feac7-aa3a-4d88-b4f9-e3cd45613c14",
   "metadata": {},
   "outputs": [
    {
     "data": {
      "text/plain": [
       "0.8828358208955225"
      ]
     },
     "execution_count": 77,
     "metadata": {},
     "output_type": "execute_result"
    }
   ],
   "source": [
    "rs_cv.best_score_"
   ]
  },
  {
   "cell_type": "code",
   "execution_count": 78,
   "id": "603d7294-5310-4f14-9d01-edd4d371037f",
   "metadata": {},
   "outputs": [
    {
     "data": {
      "text/plain": [
       "{'num_leaves': 1550,\n",
       " 'min_data_in_leaf': 90,\n",
       " 'max_depth': 10,\n",
       " 'feature_fraction': 0.5,\n",
       " 'bagging_frequency': 8,\n",
       " 'bagging_fraction': 0.5}"
      ]
     },
     "execution_count": 78,
     "metadata": {},
     "output_type": "execute_result"
    }
   ],
   "source": [
    "rs_cv.best_params_"
   ]
  },
  {
   "cell_type": "code",
   "execution_count": 79,
   "id": "dc8988de-1cf7-44ff-a1a2-b14c99cab4a4",
   "metadata": {},
   "outputs": [
    {
     "name": "stdout",
     "output_type": "stream",
     "text": [
      "LGBMClassifier(bagging_fraction=0.5, bagging_frequency=8, feature_fraction=0.5,\n",
      "               max_depth=10, min_data_in_leaf=90, num_leaves=1550)\n"
     ]
    }
   ],
   "source": [
    "print(rs_cv.best_estimator_)"
   ]
  },
  {
   "cell_type": "code",
   "execution_count": 59,
   "id": "ac8f0dd9-1c87-4d1a-b96e-8249c3fb1f6b",
   "metadata": {},
   "outputs": [],
   "source": [
    "from sklearn.linear_model import LogisticRegression\n",
    "import lightgbm as lgb\n",
    "\n",
    "class updated_lgbm_model:\n",
    "    def __init__(self,train_x_vector,train_y,test_x_vector,test_y):\n",
    "        self.train_x_vector=train_x_vector\n",
    "        self.train_y=train_y\n",
    "        self.test_x_vector=test_x_vector\n",
    "        self.test_y=test_y\n",
    "    def model():\n",
    "        rs_cv=lgb.LGBMClassifier(bagging_fraction=0.5, bagging_frequency=8, feature_fraction=0.5,\n",
    "               max_depth=10, min_data_in_leaf=90, num_leaves=1550)\n",
    "        rs_cv.fit(train_x_vector,train_y)\n",
    "        tweet=input()\n",
    "        print(\"probability for the input to be positive or negative\")\n",
    "        prediction_prob=rs_cv.predict_proba(tfidf.transform([str(tweet)]))\n",
    "        print(prediction_prob)\n",
    "        print(\"prediction of the model\")\n",
    "        prediction=rs_cv.predict(tfidf.transform([str(tweet)]))\n",
    "        print(prediction)\n",
    "        print(\"classification report\")\n",
    "        print(classification_report(test_y,\n",
    "                            rs_cv.predict(test_x_vector),\n",
    "                            labels = ['positive','negative']))\n",
    "        print(\"accuracy_of_model\")\n",
    "        print(rs_cv.score(test_x_vector,test_y))\n"
   ]
  },
  {
   "cell_type": "code",
   "execution_count": 61,
   "id": "cc016e5c-f2ff-4262-a515-64752b7ae66b",
   "metadata": {},
   "outputs": [
    {
     "name": "stdout",
     "output_type": "stream",
     "text": [
      "[LightGBM] [Warning] Unknown parameter: bagging_frequency\n",
      "[LightGBM] [Warning] feature_fraction is set=0.5, colsample_bytree=1.0 will be ignored. Current value: feature_fraction=0.5\n",
      "[LightGBM] [Warning] min_data_in_leaf is set=90, min_child_samples=20 will be ignored. Current value: min_data_in_leaf=90\n",
      "[LightGBM] [Warning] bagging_fraction is set=0.5, subsample=1.0 will be ignored. Current value: bagging_fraction=0.5\n"
     ]
    },
    {
     "name": "stdin",
     "output_type": "stream",
     "text": [
      " service is bad but flight is good\n"
     ]
    },
    {
     "name": "stdout",
     "output_type": "stream",
     "text": [
      "probability for the input to be positive or negative\n",
      "[[0.0706567 0.9293433]]\n",
      "prediction of the model\n",
      "['positive']\n",
      "classification report\n",
      "              precision    recall  f1-score   support\n",
      "\n",
      "    positive       0.99      0.85      0.92       335\n",
      "    negative       0.87      0.99      0.92       325\n",
      "\n",
      "    accuracy                           0.92       660\n",
      "   macro avg       0.93      0.92      0.92       660\n",
      "weighted avg       0.93      0.92      0.92       660\n",
      "\n",
      "accuracy_of_model\n",
      "0.9196969696969697\n"
     ]
    }
   ],
   "source": [
    "model=updated_lgbm_model.model()"
   ]
  },
  {
   "cell_type": "code",
   "execution_count": 88,
   "id": "85dc89b0-4898-4d76-bff6-880b14f8991d",
   "metadata": {},
   "outputs": [
    {
     "name": "stdout",
     "output_type": "stream",
     "text": [
      "Fitting 5 folds for each of 25 candidates, totalling 125 fits\n",
      "[11:12:37] WARNING: C:/Users/Administrator/workspace/xgboost-win64_release_1.6.0/src/learner.cc:627: \n",
      "Parameters: { \"criterion\", \"max_features\", \"max_leaf_nodes\", \"min_samples_leaf\", \"min_samples_split\" } might not be used.\n",
      "\n",
      "  This could be a false alarm, with some parameters getting used by language bindings but\n",
      "  then being mistakenly passed down to XGBoost core, or some parameter actually being used\n",
      "  but getting flagged wrongly here. Please open an issue if you find any such cases.\n",
      "\n",
      "\n"
     ]
    },
    {
     "data": {
      "text/html": [
       "<style>#sk-container-id-21 {color: black;background-color: white;}#sk-container-id-21 pre{padding: 0;}#sk-container-id-21 div.sk-toggleable {background-color: white;}#sk-container-id-21 label.sk-toggleable__label {cursor: pointer;display: block;width: 100%;margin-bottom: 0;padding: 0.3em;box-sizing: border-box;text-align: center;}#sk-container-id-21 label.sk-toggleable__label-arrow:before {content: \"▸\";float: left;margin-right: 0.25em;color: #696969;}#sk-container-id-21 label.sk-toggleable__label-arrow:hover:before {color: black;}#sk-container-id-21 div.sk-estimator:hover label.sk-toggleable__label-arrow:before {color: black;}#sk-container-id-21 div.sk-toggleable__content {max-height: 0;max-width: 0;overflow: hidden;text-align: left;background-color: #f0f8ff;}#sk-container-id-21 div.sk-toggleable__content pre {margin: 0.2em;color: black;border-radius: 0.25em;background-color: #f0f8ff;}#sk-container-id-21 input.sk-toggleable__control:checked~div.sk-toggleable__content {max-height: 200px;max-width: 100%;overflow: auto;}#sk-container-id-21 input.sk-toggleable__control:checked~label.sk-toggleable__label-arrow:before {content: \"▾\";}#sk-container-id-21 div.sk-estimator input.sk-toggleable__control:checked~label.sk-toggleable__label {background-color: #d4ebff;}#sk-container-id-21 div.sk-label input.sk-toggleable__control:checked~label.sk-toggleable__label {background-color: #d4ebff;}#sk-container-id-21 input.sk-hidden--visually {border: 0;clip: rect(1px 1px 1px 1px);clip: rect(1px, 1px, 1px, 1px);height: 1px;margin: -1px;overflow: hidden;padding: 0;position: absolute;width: 1px;}#sk-container-id-21 div.sk-estimator {font-family: monospace;background-color: #f0f8ff;border: 1px dotted black;border-radius: 0.25em;box-sizing: border-box;margin-bottom: 0.5em;}#sk-container-id-21 div.sk-estimator:hover {background-color: #d4ebff;}#sk-container-id-21 div.sk-parallel-item::after {content: \"\";width: 100%;border-bottom: 1px solid gray;flex-grow: 1;}#sk-container-id-21 div.sk-label:hover label.sk-toggleable__label {background-color: #d4ebff;}#sk-container-id-21 div.sk-serial::before {content: \"\";position: absolute;border-left: 1px solid gray;box-sizing: border-box;top: 0;bottom: 0;left: 50%;z-index: 0;}#sk-container-id-21 div.sk-serial {display: flex;flex-direction: column;align-items: center;background-color: white;padding-right: 0.2em;padding-left: 0.2em;position: relative;}#sk-container-id-21 div.sk-item {position: relative;z-index: 1;}#sk-container-id-21 div.sk-parallel {display: flex;align-items: stretch;justify-content: center;background-color: white;position: relative;}#sk-container-id-21 div.sk-item::before, #sk-container-id-21 div.sk-parallel-item::before {content: \"\";position: absolute;border-left: 1px solid gray;box-sizing: border-box;top: 0;bottom: 0;left: 50%;z-index: -1;}#sk-container-id-21 div.sk-parallel-item {display: flex;flex-direction: column;z-index: 1;position: relative;background-color: white;}#sk-container-id-21 div.sk-parallel-item:first-child::after {align-self: flex-end;width: 50%;}#sk-container-id-21 div.sk-parallel-item:last-child::after {align-self: flex-start;width: 50%;}#sk-container-id-21 div.sk-parallel-item:only-child::after {width: 0;}#sk-container-id-21 div.sk-dashed-wrapped {border: 1px dashed gray;margin: 0 0.4em 0.5em 0.4em;box-sizing: border-box;padding-bottom: 0.4em;background-color: white;}#sk-container-id-21 div.sk-label label {font-family: monospace;font-weight: bold;display: inline-block;line-height: 1.2em;}#sk-container-id-21 div.sk-label-container {text-align: center;}#sk-container-id-21 div.sk-container {/* jupyter's `normalize.less` sets `[hidden] { display: none; }` but bootstrap.min.css set `[hidden] { display: none !important; }` so we also need the `!important` here to be able to override the default hidden behavior on the sphinx rendered scikit-learn.org. See: https://github.com/scikit-learn/scikit-learn/issues/21755 */display: inline-block !important;position: relative;}#sk-container-id-21 div.sk-text-repr-fallback {display: none;}</style><div id=\"sk-container-id-21\" class=\"sk-top-container\"><div class=\"sk-text-repr-fallback\"><pre>RandomizedSearchCV(error_score=0,\n",
       "                   estimator=XGBClassifier(base_score=None, booster=None,\n",
       "                                           callbacks=None,\n",
       "                                           colsample_bylevel=None,\n",
       "                                           colsample_bynode=None,\n",
       "                                           colsample_bytree=None,\n",
       "                                           early_stopping_rounds=None,\n",
       "                                           enable_categorical=False,\n",
       "                                           eval_metric=None, gamma=None,\n",
       "                                           gpu_id=None, grow_policy=None,\n",
       "                                           importance_type=None,\n",
       "                                           interaction_constraints=None,\n",
       "                                           learning_rate=None, max_...\n",
       "                                           reg_alpha=None, reg_lambda=None, ...),\n",
       "                   n_iter=25, n_jobs=-1,\n",
       "                   param_distributions={&#x27;criterion&#x27;: [&#x27;gini&#x27;, &#x27;entropy&#x27;],\n",
       "                                        &#x27;max_depth&#x27;: [5, 10, 20, 30, 40, 50, 60,\n",
       "                                                      70],\n",
       "                                        &#x27;max_features&#x27;: [&#x27;sqrt&#x27;, &#x27;log2&#x27;],\n",
       "                                        &#x27;max_leaf_nodes&#x27;: [5, 10, 20, 25, 30,\n",
       "                                                           40, 50],\n",
       "                                        &#x27;min_samples_leaf&#x27;: [1, 100, 200, 300,\n",
       "                                                             400, 500],\n",
       "                                        &#x27;min_samples_split&#x27;: [5, 10, 20, 25, 30,\n",
       "                                                              40, 50],\n",
       "                                        &#x27;n_estimators&#x27;: [100, 200, 300, 400,\n",
       "                                                         500]},\n",
       "                   scoring=&#x27;roc_auc&#x27;, verbose=3)</pre><b>In a Jupyter environment, please rerun this cell to show the HTML representation or trust the notebook. <br />On GitHub, the HTML representation is unable to render, please try loading this page with nbviewer.org.</b></div><div class=\"sk-container\" hidden><div class=\"sk-item sk-dashed-wrapped\"><div class=\"sk-label-container\"><div class=\"sk-label sk-toggleable\"><input class=\"sk-toggleable__control sk-hidden--visually\" id=\"sk-estimator-id-35\" type=\"checkbox\" ><label for=\"sk-estimator-id-35\" class=\"sk-toggleable__label sk-toggleable__label-arrow\">RandomizedSearchCV</label><div class=\"sk-toggleable__content\"><pre>RandomizedSearchCV(error_score=0,\n",
       "                   estimator=XGBClassifier(base_score=None, booster=None,\n",
       "                                           callbacks=None,\n",
       "                                           colsample_bylevel=None,\n",
       "                                           colsample_bynode=None,\n",
       "                                           colsample_bytree=None,\n",
       "                                           early_stopping_rounds=None,\n",
       "                                           enable_categorical=False,\n",
       "                                           eval_metric=None, gamma=None,\n",
       "                                           gpu_id=None, grow_policy=None,\n",
       "                                           importance_type=None,\n",
       "                                           interaction_constraints=None,\n",
       "                                           learning_rate=None, max_...\n",
       "                                           reg_alpha=None, reg_lambda=None, ...),\n",
       "                   n_iter=25, n_jobs=-1,\n",
       "                   param_distributions={&#x27;criterion&#x27;: [&#x27;gini&#x27;, &#x27;entropy&#x27;],\n",
       "                                        &#x27;max_depth&#x27;: [5, 10, 20, 30, 40, 50, 60,\n",
       "                                                      70],\n",
       "                                        &#x27;max_features&#x27;: [&#x27;sqrt&#x27;, &#x27;log2&#x27;],\n",
       "                                        &#x27;max_leaf_nodes&#x27;: [5, 10, 20, 25, 30,\n",
       "                                                           40, 50],\n",
       "                                        &#x27;min_samples_leaf&#x27;: [1, 100, 200, 300,\n",
       "                                                             400, 500],\n",
       "                                        &#x27;min_samples_split&#x27;: [5, 10, 20, 25, 30,\n",
       "                                                              40, 50],\n",
       "                                        &#x27;n_estimators&#x27;: [100, 200, 300, 400,\n",
       "                                                         500]},\n",
       "                   scoring=&#x27;roc_auc&#x27;, verbose=3)</pre></div></div></div><div class=\"sk-parallel\"><div class=\"sk-parallel-item\"><div class=\"sk-item\"><div class=\"sk-label-container\"><div class=\"sk-label sk-toggleable\"><input class=\"sk-toggleable__control sk-hidden--visually\" id=\"sk-estimator-id-36\" type=\"checkbox\" ><label for=\"sk-estimator-id-36\" class=\"sk-toggleable__label sk-toggleable__label-arrow\">estimator: XGBClassifier</label><div class=\"sk-toggleable__content\"><pre>XGBClassifier(base_score=None, booster=None, callbacks=None,\n",
       "              colsample_bylevel=None, colsample_bynode=None,\n",
       "              colsample_bytree=None, early_stopping_rounds=None,\n",
       "              enable_categorical=False, eval_metric=None, gamma=None,\n",
       "              gpu_id=None, grow_policy=None, importance_type=None,\n",
       "              interaction_constraints=None, learning_rate=None, max_bin=None,\n",
       "              max_cat_to_onehot=None, max_delta_step=None, max_depth=None,\n",
       "              max_leaves=None, min_child_weight=None, missing=nan,\n",
       "              monotone_constraints=None, n_estimators=100, n_jobs=None,\n",
       "              num_parallel_tree=None, predictor=None, random_state=None,\n",
       "              reg_alpha=None, reg_lambda=None, ...)</pre></div></div></div><div class=\"sk-serial\"><div class=\"sk-item\"><div class=\"sk-estimator sk-toggleable\"><input class=\"sk-toggleable__control sk-hidden--visually\" id=\"sk-estimator-id-37\" type=\"checkbox\" ><label for=\"sk-estimator-id-37\" class=\"sk-toggleable__label sk-toggleable__label-arrow\">XGBClassifier</label><div class=\"sk-toggleable__content\"><pre>XGBClassifier(base_score=None, booster=None, callbacks=None,\n",
       "              colsample_bylevel=None, colsample_bynode=None,\n",
       "              colsample_bytree=None, early_stopping_rounds=None,\n",
       "              enable_categorical=False, eval_metric=None, gamma=None,\n",
       "              gpu_id=None, grow_policy=None, importance_type=None,\n",
       "              interaction_constraints=None, learning_rate=None, max_bin=None,\n",
       "              max_cat_to_onehot=None, max_delta_step=None, max_depth=None,\n",
       "              max_leaves=None, min_child_weight=None, missing=nan,\n",
       "              monotone_constraints=None, n_estimators=100, n_jobs=None,\n",
       "              num_parallel_tree=None, predictor=None, random_state=None,\n",
       "              reg_alpha=None, reg_lambda=None, ...)</pre></div></div></div></div></div></div></div></div></div></div>"
      ],
      "text/plain": [
       "RandomizedSearchCV(error_score=0,\n",
       "                   estimator=XGBClassifier(base_score=None, booster=None,\n",
       "                                           callbacks=None,\n",
       "                                           colsample_bylevel=None,\n",
       "                                           colsample_bynode=None,\n",
       "                                           colsample_bytree=None,\n",
       "                                           early_stopping_rounds=None,\n",
       "                                           enable_categorical=False,\n",
       "                                           eval_metric=None, gamma=None,\n",
       "                                           gpu_id=None, grow_policy=None,\n",
       "                                           importance_type=None,\n",
       "                                           interaction_constraints=None,\n",
       "                                           learning_rate=None, max_...\n",
       "                                           reg_alpha=None, reg_lambda=None, ...),\n",
       "                   n_iter=25, n_jobs=-1,\n",
       "                   param_distributions={'criterion': ['gini', 'entropy'],\n",
       "                                        'max_depth': [5, 10, 20, 30, 40, 50, 60,\n",
       "                                                      70],\n",
       "                                        'max_features': ['sqrt', 'log2'],\n",
       "                                        'max_leaf_nodes': [5, 10, 20, 25, 30,\n",
       "                                                           40, 50],\n",
       "                                        'min_samples_leaf': [1, 100, 200, 300,\n",
       "                                                             400, 500],\n",
       "                                        'min_samples_split': [5, 10, 20, 25, 30,\n",
       "                                                              40, 50],\n",
       "                                        'n_estimators': [100, 200, 300, 400,\n",
       "                                                         500]},\n",
       "                   scoring='roc_auc', verbose=3)"
      ]
     },
     "execution_count": 88,
     "metadata": {},
     "output_type": "execute_result"
    }
   ],
   "source": [
    "clf_xgb = XGBClassifier(objective = 'binary:logistic')\n",
    "param_grid={'n_estimators':[100,200,300,400,500],\n",
    "            'criterion':['gini', 'entropy'],\n",
    "            'max_depth':[5,10,20,30,40,50,60,70],\n",
    "            'min_samples_split':[5,10,20,25,30,40,50],\n",
    "            'max_features':[ 'sqrt', 'log2'],\n",
    "            'max_leaf_nodes':[5,10,20,25,30,40,50],\n",
    "            'min_samples_leaf':[1,100,200,300,400,500]\n",
    "            }\n",
    "clf = RandomizedSearchCV(clf_xgb, param_distributions = param_grid, n_iter = 25, scoring = 'roc_auc', error_score = 0, verbose = 3, n_jobs = -1)\n",
    "clf.fit(train_x_vector, y_train)"
   ]
  },
  {
   "cell_type": "code",
   "execution_count": 96,
   "id": "1520b0a5-f78c-4204-bdf5-f9b3fcbb72af",
   "metadata": {},
   "outputs": [
    {
     "name": "stdout",
     "output_type": "stream",
     "text": [
      "{'n_estimators': 100, 'min_samples_split': 10, 'min_samples_leaf': 400, 'max_leaf_nodes': 25, 'max_features': 'log2', 'max_depth': 60, 'criterion': 'gini'}\n"
     ]
    }
   ],
   "source": [
    "print(clf.best_params_)"
   ]
  },
  {
   "cell_type": "code",
   "execution_count": 63,
   "id": "19a3c05f-dd28-4d1b-ae88-0e4858bc2589",
   "metadata": {},
   "outputs": [],
   "source": [
    "from xgboost import XGBClassifier\n",
    "from sklearn.preprocessing import LabelEncoder\n",
    "le = LabelEncoder()\n",
    "\n",
    "class updated_xg_model:\n",
    "    def __init__(self,train_x_vector,train_y,test_x_vector,test_y):\n",
    "        self.train_x_vector=train_x_vector\n",
    "        self.train_y=train_y\n",
    "        self.test_x_vector=test_x_vector\n",
    "        self.test_y=test_y\n",
    "    def model():\n",
    "        xgb = XGBClassifier(n_estimators=100, min_samples_split=10, min_samples_leaf=400, max_leaf_nodes=25, max_features='log2', max_depth=60, criterion= 'gini')\n",
    "        y_train = le.fit_transform(train_y)\n",
    "        xgb.fit(train_x_vector,y_train)\n",
    "        tweet=input()\n",
    "        print(\"probability for the input to be positive or negative\")\n",
    "        prediction_prob=xgb.predict_proba(tfidf.transform([str(tweet)]))\n",
    "        print(prediction_prob)\n",
    "        print(\"prediction of the model\")\n",
    "        prediction=xgb.predict(tfidf.transform([str(tweet)]))\n",
    "        print(prediction)\n",
    "        print(\"classification report\")\n",
    "        y_test = le.fit_transform(test_y)\n",
    "        print(classification_report(y_test,\n",
    "                            xgb.predict(test_x_vector)))\n",
    "        print(\"accuracy_of_model\")\n",
    "        print(xgb.score(test_x_vector,y_test))"
   ]
  },
  {
   "cell_type": "code",
   "execution_count": 64,
   "id": "e61e474d-39df-48d6-85df-44500ec9fd1f",
   "metadata": {},
   "outputs": [
    {
     "name": "stdout",
     "output_type": "stream",
     "text": [
      "[13:00:58] WARNING: C:/Users/Administrator/workspace/xgboost-win64_release_1.6.0/src/learner.cc:627: \n",
      "Parameters: { \"criterion\", \"max_features\", \"max_leaf_nodes\", \"min_samples_leaf\", \"min_samples_split\" } might not be used.\n",
      "\n",
      "  This could be a false alarm, with some parameters getting used by language bindings but\n",
      "  then being mistakenly passed down to XGBoost core, or some parameter actually being used\n",
      "  but getting flagged wrongly here. Please open an issue if you find any such cases.\n",
      "\n",
      "\n"
     ]
    },
    {
     "name": "stdin",
     "output_type": "stream",
     "text": [
      " service is bad but flight is good\n"
     ]
    },
    {
     "name": "stdout",
     "output_type": "stream",
     "text": [
      "probability for the input to be positive or negative\n",
      "[[0.00188231 0.9981177 ]]\n",
      "prediction of the model\n",
      "[1]\n",
      "classification report\n",
      "              precision    recall  f1-score   support\n",
      "\n",
      "           0       0.89      0.89      0.89       325\n",
      "           1       0.89      0.90      0.89       335\n",
      "\n",
      "    accuracy                           0.89       660\n",
      "   macro avg       0.89      0.89      0.89       660\n",
      "weighted avg       0.89      0.89      0.89       660\n",
      "\n",
      "accuracy_of_model\n",
      "0.8924242424242425\n"
     ]
    }
   ],
   "source": [
    "model=updated_xg_model.model()"
   ]
  },
  {
   "cell_type": "code",
   "execution_count": null,
   "id": "63f2e7a0-844f-42b9-9e57-a60cc2fe7dd1",
   "metadata": {},
   "outputs": [],
   "source": []
  }
 ],
 "metadata": {
  "kernelspec": {
   "display_name": "Python 3 (ipykernel)",
   "language": "python",
   "name": "python3"
  },
  "language_info": {
   "codemirror_mode": {
    "name": "ipython",
    "version": 3
   },
   "file_extension": ".py",
   "mimetype": "text/x-python",
   "name": "python",
   "nbconvert_exporter": "python",
   "pygments_lexer": "ipython3",
   "version": "3.9.12"
  },
  "papermill": {
   "default_parameters": {},
   "duration": 95.3358,
   "end_time": "2022-03-15T05:16:41.764937",
   "environment_variables": {},
   "exception": null,
   "input_path": "__notebook__.ipynb",
   "output_path": "__notebook__.ipynb",
   "parameters": {},
   "start_time": "2022-03-15T05:15:06.429137",
   "version": "2.3.3"
  }
 },
 "nbformat": 4,
 "nbformat_minor": 5
}
